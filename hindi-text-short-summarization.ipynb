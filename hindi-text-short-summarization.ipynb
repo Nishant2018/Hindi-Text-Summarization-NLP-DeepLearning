{
 "cells": [
  {
   "cell_type": "code",
   "execution_count": 1,
   "id": "39ff2e25",
   "metadata": {
    "_cell_guid": "b1076dfc-b9ad-4769-8c92-a6c4dae69d19",
    "_uuid": "8f2839f25d086af736a60e9eeb907d3b93b6e0e5",
    "execution": {
     "iopub.execute_input": "2024-02-13T13:25:19.697608Z",
     "iopub.status.busy": "2024-02-13T13:25:19.697246Z",
     "iopub.status.idle": "2024-02-13T13:25:20.543946Z",
     "shell.execute_reply": "2024-02-13T13:25:20.542882Z"
    },
    "papermill": {
     "duration": 0.868352,
     "end_time": "2024-02-13T13:25:20.546039",
     "exception": false,
     "start_time": "2024-02-13T13:25:19.677687",
     "status": "completed"
    },
    "tags": []
   },
   "outputs": [
    {
     "name": "stdout",
     "output_type": "stream",
     "text": [
      "/kaggle/input/hindi-text-short-summarization-corpus/train.csv\n",
      "/kaggle/input/hindi-text-short-summarization-corpus/test.csv\n"
     ]
    }
   ],
   "source": [
    "# This Python 3 environment comes with many helpful analytics libraries installed\n",
    "# It is defined by the kaggle/python Docker image: https://github.com/kaggle/docker-python\n",
    "# For example, here's several helpful packages to load\n",
    "\n",
    "import numpy as np # linear algebra\n",
    "import pandas as pd # data processing, CSV file I/O (e.g. pd.read_csv)\n",
    "\n",
    "# Input data files are available in the read-only \"../input/\" directory\n",
    "# For example, running this (by clicking run or pressing Shift+Enter) will list all files under the input directory\n",
    "\n",
    "import os\n",
    "for dirname, _, filenames in os.walk('/kaggle/input'):\n",
    "    for filename in filenames:\n",
    "        print(os.path.join(dirname, filename))\n",
    "\n",
    "# You can write up to 20GB to the current directory (/kaggle/working/) that gets preserved as output when you create a version using \"Save & Run All\" \n",
    "# You can also write temporary files to /kaggle/temp/, but they won't be saved outside of the current session"
   ]
  },
  {
   "cell_type": "code",
   "execution_count": 2,
   "id": "b97c1fef",
   "metadata": {
    "execution": {
     "iopub.execute_input": "2024-02-13T13:25:20.583974Z",
     "iopub.status.busy": "2024-02-13T13:25:20.583090Z",
     "iopub.status.idle": "2024-02-13T13:25:24.490857Z",
     "shell.execute_reply": "2024-02-13T13:25:24.490024Z"
    },
    "papermill": {
     "duration": 3.928747,
     "end_time": "2024-02-13T13:25:24.493118",
     "exception": false,
     "start_time": "2024-02-13T13:25:20.564371",
     "status": "completed"
    },
    "tags": []
   },
   "outputs": [],
   "source": [
    "import pandas as pd\n",
    "import torch\n",
    "import random\n",
    "\n",
    "import numpy as np"
   ]
  },
  {
   "cell_type": "code",
   "execution_count": 3,
   "id": "5fe002e6",
   "metadata": {
    "execution": {
     "iopub.execute_input": "2024-02-13T13:25:24.532009Z",
     "iopub.status.busy": "2024-02-13T13:25:24.531555Z",
     "iopub.status.idle": "2024-02-13T13:25:57.624870Z",
     "shell.execute_reply": "2024-02-13T13:25:57.623909Z"
    },
    "papermill": {
     "duration": 33.132453,
     "end_time": "2024-02-13T13:25:57.644942",
     "exception": false,
     "start_time": "2024-02-13T13:25:24.512489",
     "status": "completed"
    },
    "tags": []
   },
   "outputs": [
    {
     "data": {
      "text/html": [
       "<div>\n",
       "<style scoped>\n",
       "    .dataframe tbody tr th:only-of-type {\n",
       "        vertical-align: middle;\n",
       "    }\n",
       "\n",
       "    .dataframe tbody tr th {\n",
       "        vertical-align: top;\n",
       "    }\n",
       "\n",
       "    .dataframe thead th {\n",
       "        text-align: right;\n",
       "    }\n",
       "</style>\n",
       "<table border=\"1\" class=\"dataframe\">\n",
       "  <thead>\n",
       "    <tr style=\"text-align: right;\">\n",
       "      <th></th>\n",
       "      <th>headline</th>\n",
       "      <th>article</th>\n",
       "    </tr>\n",
       "  </thead>\n",
       "  <tbody>\n",
       "    <tr>\n",
       "      <th>0</th>\n",
       "      <td>EXCLUSIVE: दिल्ली में डीजल टैक्सियों पर बैन से...</td>\n",
       "      <td>दिल्ली में सुप्रीम कोर्ट के डीज़ल टैक्सियों को...</td>\n",
       "    </tr>\n",
       "    <tr>\n",
       "      <th>1</th>\n",
       "      <td>जॉर्डन: राष्ट्रपति मुखर्जी ने 86 करोड़ डॉलर के...</td>\n",
       "      <td>जॉर्डन के ऐतिहासिक दौरे पर पहुंचे राष्ट्रपति प...</td>\n",
       "    </tr>\n",
       "    <tr>\n",
       "      <th>2</th>\n",
       "      <td>UN में पाकिस्तान की राजदूत मलीहा लोधी ने कराई ...</td>\n",
       "      <td>पाकिस्तानी नेताओं को विवादित और हास्यास्पद बया...</td>\n",
       "    </tr>\n",
       "    <tr>\n",
       "      <th>3</th>\n",
       "      <td>38 देशों में पीएम नरेंद्र मोदी बायोपिक को रिली...</td>\n",
       "      <td>पीएम नरेंद्र मोदी बायोपिक में विवेक ओबेरॉय ने ...</td>\n",
       "    </tr>\n",
       "    <tr>\n",
       "      <th>4</th>\n",
       "      <td>13 अगस्त 2011: दिनभर की बड़ी खबरें पढ़ें</td>\n",
       "      <td>देश, दुनिया, महानगर, खेल, आर्थिक और बॉलीवुड मे...</td>\n",
       "    </tr>\n",
       "  </tbody>\n",
       "</table>\n",
       "</div>"
      ],
      "text/plain": [
       "                                            headline  \\\n",
       "0  EXCLUSIVE: दिल्ली में डीजल टैक्सियों पर बैन से...   \n",
       "1  जॉर्डन: राष्ट्रपति मुखर्जी ने 86 करोड़ डॉलर के...   \n",
       "2  UN में पाकिस्तान की राजदूत मलीहा लोधी ने कराई ...   \n",
       "3  38 देशों में पीएम नरेंद्र मोदी बायोपिक को रिली...   \n",
       "4           13 अगस्त 2011: दिनभर की बड़ी खबरें पढ़ें   \n",
       "\n",
       "                                             article  \n",
       "0  दिल्ली में सुप्रीम कोर्ट के डीज़ल टैक्सियों को...  \n",
       "1  जॉर्डन के ऐतिहासिक दौरे पर पहुंचे राष्ट्रपति प...  \n",
       "2  पाकिस्तानी नेताओं को विवादित और हास्यास्पद बया...  \n",
       "3  पीएम नरेंद्र मोदी बायोपिक में विवेक ओबेरॉय ने ...  \n",
       "4  देश, दुनिया, महानगर, खेल, आर्थिक और बॉलीवुड मे...  "
      ]
     },
     "execution_count": 3,
     "metadata": {},
     "output_type": "execute_result"
    }
   ],
   "source": [
    "train = pd.read_csv(\"/kaggle/input/hindi-text-short-summarization-corpus/train.csv\")\n",
    "train.head()"
   ]
  },
  {
   "cell_type": "code",
   "execution_count": 4,
   "id": "0b73a889",
   "metadata": {
    "execution": {
     "iopub.execute_input": "2024-02-13T13:25:57.682598Z",
     "iopub.status.busy": "2024-02-13T13:25:57.682225Z",
     "iopub.status.idle": "2024-02-13T13:25:57.687850Z",
     "shell.execute_reply": "2024-02-13T13:25:57.686757Z"
    },
    "papermill": {
     "duration": 0.02668,
     "end_time": "2024-02-13T13:25:57.689695",
     "exception": false,
     "start_time": "2024-02-13T13:25:57.663015",
     "status": "completed"
    },
    "tags": []
   },
   "outputs": [
    {
     "name": "stdout",
     "output_type": "stream",
     "text": [
      "0    EXCLUSIVE: दिल्ली में डीजल टैक्सियों पर बैन से...\n",
      "Name: headline, dtype: object\n"
     ]
    }
   ],
   "source": [
    "print(train.head(1)[\"headline\"])"
   ]
  },
  {
   "cell_type": "code",
   "execution_count": 5,
   "id": "ec311a3c",
   "metadata": {
    "execution": {
     "iopub.execute_input": "2024-02-13T13:25:57.727790Z",
     "iopub.status.busy": "2024-02-13T13:25:57.727528Z",
     "iopub.status.idle": "2024-02-13T13:25:57.732986Z",
     "shell.execute_reply": "2024-02-13T13:25:57.732233Z"
    },
    "papermill": {
     "duration": 0.026408,
     "end_time": "2024-02-13T13:25:57.734991",
     "exception": false,
     "start_time": "2024-02-13T13:25:57.708583",
     "status": "completed"
    },
    "tags": []
   },
   "outputs": [
    {
     "data": {
      "text/plain": [
       "(266607, 2)"
      ]
     },
     "execution_count": 5,
     "metadata": {},
     "output_type": "execute_result"
    }
   ],
   "source": [
    "train.shape"
   ]
  },
  {
   "cell_type": "code",
   "execution_count": 6,
   "id": "a692376c",
   "metadata": {
    "execution": {
     "iopub.execute_input": "2024-02-13T13:25:57.772789Z",
     "iopub.status.busy": "2024-02-13T13:25:57.772492Z",
     "iopub.status.idle": "2024-02-13T13:26:05.838013Z",
     "shell.execute_reply": "2024-02-13T13:26:05.837096Z"
    },
    "papermill": {
     "duration": 8.086819,
     "end_time": "2024-02-13T13:26:05.840072",
     "exception": false,
     "start_time": "2024-02-13T13:25:57.753253",
     "status": "completed"
    },
    "tags": []
   },
   "outputs": [
    {
     "data": {
      "text/plain": [
       "(66653, 2)"
      ]
     },
     "execution_count": 6,
     "metadata": {},
     "output_type": "execute_result"
    }
   ],
   "source": [
    "test = pd.read_csv(\"/kaggle/input/hindi-text-short-summarization-corpus/test.csv\")\n",
    "test.shape"
   ]
  },
  {
   "cell_type": "code",
   "execution_count": 7,
   "id": "c5b4a24d",
   "metadata": {
    "execution": {
     "iopub.execute_input": "2024-02-13T13:26:05.878553Z",
     "iopub.status.busy": "2024-02-13T13:26:05.878229Z",
     "iopub.status.idle": "2024-02-13T13:26:05.887005Z",
     "shell.execute_reply": "2024-02-13T13:26:05.886169Z"
    },
    "papermill": {
     "duration": 0.029998,
     "end_time": "2024-02-13T13:26:05.888944",
     "exception": false,
     "start_time": "2024-02-13T13:26:05.858946",
     "status": "completed"
    },
    "tags": []
   },
   "outputs": [
    {
     "data": {
      "text/html": [
       "<div>\n",
       "<style scoped>\n",
       "    .dataframe tbody tr th:only-of-type {\n",
       "        vertical-align: middle;\n",
       "    }\n",
       "\n",
       "    .dataframe tbody tr th {\n",
       "        vertical-align: top;\n",
       "    }\n",
       "\n",
       "    .dataframe thead th {\n",
       "        text-align: right;\n",
       "    }\n",
       "</style>\n",
       "<table border=\"1\" class=\"dataframe\">\n",
       "  <thead>\n",
       "    <tr style=\"text-align: right;\">\n",
       "      <th></th>\n",
       "      <th>headline</th>\n",
       "      <th>article</th>\n",
       "    </tr>\n",
       "  </thead>\n",
       "  <tbody>\n",
       "    <tr>\n",
       "      <th>0</th>\n",
       "      <td>पठानकोट पहुंचे PM मोदी, एयरबेस का जायजा ले बॉर...</td>\n",
       "      <td>प्रधानमंत्री नरेंद्र मोदी पठानकोट एयरबेस पहुंच...</td>\n",
       "    </tr>\n",
       "    <tr>\n",
       "      <th>1</th>\n",
       "      <td>सचिन ने देशवासियों को समर्पित किया अपना दोहरा शतक</td>\n",
       "      <td>सचिन तेंदुलकर ने एकदिवसीय अंतरराष्ट्रीय क्रिके...</td>\n",
       "    </tr>\n",
       "    <tr>\n",
       "      <th>2</th>\n",
       "      <td>एनआईए करेगी छत्तीसगढ़ में सुरक्षा खामियों की ज...</td>\n",
       "      <td>केंद्रीय गृह राज्य मंत्री आर. पी. एन. सिंह ने ...</td>\n",
       "    </tr>\n",
       "    <tr>\n",
       "      <th>3</th>\n",
       "      <td>सीधी बात:  शाह बोले- हमारा बस चलता तो अब तक मं...</td>\n",
       "      <td>भारतीय जनता पार्टी (बीजेपी) के राष्ट्रीय अध्यक...</td>\n",
       "    </tr>\n",
       "    <tr>\n",
       "      <th>4</th>\n",
       "      <td>ऋषभ पंत के पास यूनिक टैलेंट, उसके साथ छेड़छाड़ न...</td>\n",
       "      <td>ऋषभ पंत की कभी कभार इस बात के लिए आलोचना की जा...</td>\n",
       "    </tr>\n",
       "  </tbody>\n",
       "</table>\n",
       "</div>"
      ],
      "text/plain": [
       "                                            headline  \\\n",
       "0  पठानकोट पहुंचे PM मोदी, एयरबेस का जायजा ले बॉर...   \n",
       "1  सचिन ने देशवासियों को समर्पित किया अपना दोहरा शतक   \n",
       "2  एनआईए करेगी छत्तीसगढ़ में सुरक्षा खामियों की ज...   \n",
       "3  सीधी बात:  शाह बोले- हमारा बस चलता तो अब तक मं...   \n",
       "4  ऋषभ पंत के पास यूनिक टैलेंट, उसके साथ छेड़छाड़ न...   \n",
       "\n",
       "                                             article  \n",
       "0  प्रधानमंत्री नरेंद्र मोदी पठानकोट एयरबेस पहुंच...  \n",
       "1  सचिन तेंदुलकर ने एकदिवसीय अंतरराष्ट्रीय क्रिके...  \n",
       "2  केंद्रीय गृह राज्य मंत्री आर. पी. एन. सिंह ने ...  \n",
       "3  भारतीय जनता पार्टी (बीजेपी) के राष्ट्रीय अध्यक...  \n",
       "4  ऋषभ पंत की कभी कभार इस बात के लिए आलोचना की जा...  "
      ]
     },
     "execution_count": 7,
     "metadata": {},
     "output_type": "execute_result"
    }
   ],
   "source": [
    "test.head(5)"
   ]
  },
  {
   "cell_type": "code",
   "execution_count": 8,
   "id": "8cc75673",
   "metadata": {
    "execution": {
     "iopub.execute_input": "2024-02-13T13:26:05.970769Z",
     "iopub.status.busy": "2024-02-13T13:26:05.969943Z",
     "iopub.status.idle": "2024-02-13T13:26:05.976106Z",
     "shell.execute_reply": "2024-02-13T13:26:05.975253Z"
    },
    "papermill": {
     "duration": 0.028241,
     "end_time": "2024-02-13T13:26:05.978234",
     "exception": false,
     "start_time": "2024-02-13T13:26:05.949993",
     "status": "completed"
    },
    "tags": []
   },
   "outputs": [
    {
     "data": {
      "text/plain": [
       "'यूपी के लाल हैं कोविंद, दलित विरोधी हैं मायावतीः केशव मौर्या'"
      ]
     },
     "execution_count": 8,
     "metadata": {},
     "output_type": "execute_result"
    }
   ],
   "source": [
    "test[\"headline\"][25]"
   ]
  },
  {
   "cell_type": "code",
   "execution_count": 9,
   "id": "1b1293ad",
   "metadata": {
    "execution": {
     "iopub.execute_input": "2024-02-13T13:26:06.017659Z",
     "iopub.status.busy": "2024-02-13T13:26:06.017372Z",
     "iopub.status.idle": "2024-02-13T13:26:06.040166Z",
     "shell.execute_reply": "2024-02-13T13:26:06.039335Z"
    },
    "papermill": {
     "duration": 0.04519,
     "end_time": "2024-02-13T13:26:06.042103",
     "exception": false,
     "start_time": "2024-02-13T13:26:05.996913",
     "status": "completed"
    },
    "tags": []
   },
   "outputs": [],
   "source": [
    "news = pd.concat([train, test], ignore_index=True, sort=False)"
   ]
  },
  {
   "cell_type": "code",
   "execution_count": 10,
   "id": "cb54112b",
   "metadata": {
    "execution": {
     "iopub.execute_input": "2024-02-13T13:26:06.086672Z",
     "iopub.status.busy": "2024-02-13T13:26:06.086356Z",
     "iopub.status.idle": "2024-02-13T13:26:06.093152Z",
     "shell.execute_reply": "2024-02-13T13:26:06.092321Z"
    },
    "papermill": {
     "duration": 0.034042,
     "end_time": "2024-02-13T13:26:06.095023",
     "exception": false,
     "start_time": "2024-02-13T13:26:06.060981",
     "status": "completed"
    },
    "tags": []
   },
   "outputs": [
    {
     "data": {
      "text/plain": [
       "(333260, 2)"
      ]
     },
     "execution_count": 10,
     "metadata": {},
     "output_type": "execute_result"
    }
   ],
   "source": [
    "news.shape"
   ]
  },
  {
   "cell_type": "code",
   "execution_count": 11,
   "id": "0bc2d3f4",
   "metadata": {
    "execution": {
     "iopub.execute_input": "2024-02-13T13:26:06.151875Z",
     "iopub.status.busy": "2024-02-13T13:26:06.150862Z",
     "iopub.status.idle": "2024-02-13T13:26:06.163790Z",
     "shell.execute_reply": "2024-02-13T13:26:06.162849Z"
    },
    "papermill": {
     "duration": 0.042005,
     "end_time": "2024-02-13T13:26:06.165869",
     "exception": false,
     "start_time": "2024-02-13T13:26:06.123864",
     "status": "completed"
    },
    "tags": []
   },
   "outputs": [],
   "source": [
    "import re\n",
    "def remove_emojis(data):\n",
    "    emoj = re.compile(\"[\"\n",
    "        u\"\\U0001F600-\\U0001F64F\"  # emoticons\n",
    "        u\"\\U0001F300-\\U0001F5FF\"  # symbols & pictographs\n",
    "        u\"\\U0001F680-\\U0001F6FF\"  # transport & map symbols\n",
    "        u\"\\U0001F1E0-\\U0001F1FF\"  # flags (iOS)\n",
    "        u\"\\U00002500-\\U00002BEF\"  # chinese char\n",
    "        u\"\\U00002702-\\U000027B0\"\n",
    "        u\"\\U00002702-\\U000027B0\"\n",
    "        u\"\\U000024C2-\\U0001F251\"\n",
    "        u\"\\U0001f926-\\U0001f937\"\n",
    "        u\"\\U00010000-\\U0010ffff\"\n",
    "        u\"\\u2640-\\u2642\" \n",
    "        u\"\\u2600-\\u2B55\"\n",
    "        u\"\\u200d\"\n",
    "        u\"\\u23cf\"\n",
    "        u\"\\u23e9\"\n",
    "        u\"\\u231a\"\n",
    "        u\"\\ufe0f\"  # dingbats\n",
    "        u\"\\u3030\"\n",
    "                      \"]+\", re.UNICODE)\n",
    "    return re.sub(emoj, ' ', data)\n",
    "\n",
    "def preprocess_tokenize(text):\n",
    "      # for removing punctuation from sentencesc\n",
    "    text = str(text)\n",
    "    text = re.sub(r'(\\d+)', r'', text)\n",
    "    \n",
    "    text = text.replace('\\n', ' ')\n",
    "    text = text.replace('\\r', ' ')\n",
    "    text = text.replace('\\t', ' ')\n",
    "    text = text.replace('\\u200d', '')\n",
    "    text=re.sub(\"(__+)\", ' ', str(text)).lower()   #remove _ if it occors more than one time consecutively\n",
    "    text=re.sub(\"(--+)\", ' ', str(text)).lower()   #remove - if it occors more than one time consecutively\n",
    "    text=re.sub(\"(~~+)\", ' ', str(text)).lower()   #remove ~ if it occors more than one time consecutively\n",
    "    text=re.sub(\"(\\+\\++)\", ' ', str(text)).lower()   #remove + if it occors more than one time consecutively\n",
    "    text=re.sub(\"(\\.\\.+)\", ' ', str(text)).lower()   #remove . if it occors more than one time consecutively\n",
    "    text=re.sub(r\"[<>()|&©@#ø\\[\\]\\'\\\",;:?.~*!]\", ' ', str(text)).lower() #remove <>()|&©ø\"',;?~*!\n",
    "    text = re.sub(r\"[‘’।:]\", \" \", str(text)) #removing other special characters\n",
    "    text = re.sub(\"([a-zA-Z])\",' ',str(text)).lower()\n",
    "    text = re.sub(\"(\\s+)\",' ',str(text)).lower()\n",
    "    text = remove_emojis(text)\n",
    "    return text"
   ]
  },
  {
   "cell_type": "code",
   "execution_count": 12,
   "id": "ead3dca1",
   "metadata": {
    "execution": {
     "iopub.execute_input": "2024-02-13T13:26:06.206235Z",
     "iopub.status.busy": "2024-02-13T13:26:06.205552Z",
     "iopub.status.idle": "2024-02-13T13:26:06.210661Z",
     "shell.execute_reply": "2024-02-13T13:26:06.209858Z"
    },
    "papermill": {
     "duration": 0.027669,
     "end_time": "2024-02-13T13:26:06.213155",
     "exception": false,
     "start_time": "2024-02-13T13:26:06.185486",
     "status": "completed"
    },
    "tags": []
   },
   "outputs": [],
   "source": [
    "train_data_trg = news['headline']\n",
    "train_data_src = news['article']"
   ]
  },
  {
   "cell_type": "code",
   "execution_count": 13,
   "id": "9c337f96",
   "metadata": {
    "execution": {
     "iopub.execute_input": "2024-02-13T13:26:06.256471Z",
     "iopub.status.busy": "2024-02-13T13:26:06.256134Z",
     "iopub.status.idle": "2024-02-13T13:30:35.373521Z",
     "shell.execute_reply": "2024-02-13T13:30:35.372663Z"
    },
    "papermill": {
     "duration": 269.141314,
     "end_time": "2024-02-13T13:30:35.376111",
     "exception": false,
     "start_time": "2024-02-13T13:26:06.234797",
     "status": "completed"
    },
    "tags": []
   },
   "outputs": [],
   "source": [
    "tokenized_corpus_trg = [preprocess_tokenize(x) for x in train_data_trg]  #these are headlines\n",
    "tokenized_corpus_src = [preprocess_tokenize(x) for x in train_data_src]  #these are articles"
   ]
  },
  {
   "cell_type": "code",
   "execution_count": 14,
   "id": "2bf8339b",
   "metadata": {
    "execution": {
     "iopub.execute_input": "2024-02-13T13:30:35.416891Z",
     "iopub.status.busy": "2024-02-13T13:30:35.416584Z",
     "iopub.status.idle": "2024-02-13T13:30:35.422403Z",
     "shell.execute_reply": "2024-02-13T13:30:35.421518Z"
    },
    "papermill": {
     "duration": 0.028448,
     "end_time": "2024-02-13T13:30:35.424474",
     "exception": false,
     "start_time": "2024-02-13T13:30:35.396026",
     "status": "completed"
    },
    "tags": []
   },
   "outputs": [
    {
     "data": {
      "text/plain": [
       "'जॉर्डन के ऐतिहासिक दौरे पर पहुंचे राष्ट्रपति प्रणब मुखर्जी ने करोड़ डॉलर की लागत से निर्मित भारत-जॉर्डन उवर्रक संयंत्र का जॉर्डन के शाह अब्दुल्ला द्वितीय इब्न अल हुसैन के साथ उद्घाटन किया यह संयंत्र एक साल से कम समय में बनकर तैयार हुआ है राष्ट्रपति मुखर्जी के यहां एयर इंडिया की उड़ान से दोपहर पहुंचने के कुछ देर बाद ही शाह के महल से इस संयंत्र का रिमोट के जरिए उद्घाटन किया गया अधिकारियों ने बताया कि भारतीय उर्वरक कंपनी इफको और जॉर्डन के फास्फेट्स माइन कंपनी ने इस संयंत्र के लिए में एक संयुक्त उद्यम कंपनी जॉर्डन इंडिया फर्टिलाइजर कंपनी बनाया संयुक्त उद्यम में इफको की हिस्सेदारी प्रतिशत है इस संयंत्र से प्रति वर्ष करोड़ टन सल्फ्यूरिक एसिड और करोड़ टन फास्फेरिक एसिड के उत्पादन का अनुमान है राष्ट्रपति का इससे पहले यहां पारंपरिक स्वागत किया गया और राष्ट्रपति भवन के सामने उन्हें तोपों की सलामी दी गई इसके बाद वह शाह अब्दुल्ला द्वितीय इब्न अल हुसैन के साथ वार्ता में व्यस्त हो गए वार्ता के बाद दोनों नेताओं ने इंडो-जर्मन उवर्रक संयंत्र का संयुक्त रूप से उद्घाटन किया इस संयंत्र से कच्चे माल का उत्पादन किया जाएगा इसमें फास्फोरिक एसिड और सल्फ्यूरिक एसिड प्रमुख हैं यहां पहुंचने से पहले राष्ट्रपति ने कहा दोनों देशों के क्षेत्रीय एवं अंतर्राष्ट्रीय मुद्दे मिलते-जुलते हैं और दोनों सीरिया के साथ ही मध्य पूर्व में शांति प्रक्रिया का समर्थन करते हैं उन्होंने कहा कि दोनों देश उग्रवाद और आतंकवाद के सभी रूपों की निदा करते हैं और धार्मिक सौहार्द्र में भरोसा करते हैं राष्ट्रपति के इस दौरे के दौरान व्यापार एवं निवेश पर भी जोर है उन्होंने कहा कि दोनों देश द्विपक्षीय व्यापार को पांच अरब डॉलर करना चाहते हैं अभी दोनों देशों के बीच व्यापार दो अरब डॉलर है प्रणब मुखर्जी ने जिस संयंत्र का उद्घाटन किया उससे भारत करोड़ टन फास्फोरिक एसिड का आयात करेगी भारत बड़ी मात्रा में पोटाश एवं फास्फेट जॉर्डन से हासिल करता है भारत और जॉर्डन ने में सामंजस्य के लिए द्विपक्षीय समझौते पर हस्ताक्षर किया था हालांकि इसे औपचारिक रूप में दिया गया जब पूर्ण कूटनीकि संबंध दोनों देश के बीच बने शाह अब्दुल्ला और बेगम रानिया ने अक्टूबर में भारत का दौरा किया था राष्ट्रपति के इस दौरे से पूर्व करीब साल पहले तत्कालीन प्रधानमंत्री राजीव गांधी ने इस देश का दौरा किया था इनपुट- '"
      ]
     },
     "execution_count": 14,
     "metadata": {},
     "output_type": "execute_result"
    }
   ],
   "source": [
    "tokenized_corpus_src[1] #cleaned sentences"
   ]
  },
  {
   "cell_type": "code",
   "execution_count": 15,
   "id": "f21fbd18",
   "metadata": {
    "execution": {
     "iopub.execute_input": "2024-02-13T13:30:35.464019Z",
     "iopub.status.busy": "2024-02-13T13:30:35.463690Z",
     "iopub.status.idle": "2024-02-13T13:30:46.261915Z",
     "shell.execute_reply": "2024-02-13T13:30:46.260744Z"
    },
    "papermill": {
     "duration": 10.820599,
     "end_time": "2024-02-13T13:30:46.264199",
     "exception": false,
     "start_time": "2024-02-13T13:30:35.443600",
     "status": "completed"
    },
    "tags": []
   },
   "outputs": [
    {
     "data": {
      "image/png": "[encoded data removed]",
      "text/plain": [
       "<Figure size 1000x500 with 2 Axes>"
      ]
     },
     "metadata": {},
     "output_type": "display_data"
    }
   ],
   "source": [
    "import matplotlib.pyplot as plt\n",
    "\n",
    "text_word_count = []\n",
    "summary_word_count = []\n",
    "\n",
    "# populate the lists with sentence lengths\n",
    "for i in tokenized_corpus_src[:train.shape[0]]:\n",
    "      text_word_count.append(len(i.split()))\n",
    "\n",
    "for i in tokenized_corpus_trg[:train.shape[0]]:\n",
    "      summary_word_count.append(len(i.split()))\n",
    "\n",
    "fig , ax = plt.subplots(1,2)\n",
    "fig.set_size_inches(10,5)\n",
    "ax[0].hist(text_word_count, bins=25, range=[0, 1000])\n",
    "ax[1].hist(summary_word_count, bins=25, range=[0, 100])\n",
    "ax[0].set_xlabel(\"No. of words in Text\")\n",
    "ax[0].set_ylabel(\"Frequency\")\n",
    "ax[1].set_xlabel(\"No. of words in Summary\")\n",
    "ax[1].set_ylabel(\"Frequency\")\n",
    "ax[0].set_title('Distribution of training data')\n",
    "plt.show()"
   ]
  },
  {
   "cell_type": "code",
   "execution_count": 16,
   "id": "bd85c23e",
   "metadata": {
    "execution": {
     "iopub.execute_input": "2024-02-13T13:30:46.306318Z",
     "iopub.status.busy": "2024-02-13T13:30:46.305955Z",
     "iopub.status.idle": "2024-02-13T13:30:59.491586Z",
     "shell.execute_reply": "2024-02-13T13:30:59.490659Z"
    },
    "papermill": {
     "duration": 13.209637,
     "end_time": "2024-02-13T13:30:59.493837",
     "exception": false,
     "start_time": "2024-02-13T13:30:46.284200",
     "status": "completed"
    },
    "tags": []
   },
   "outputs": [
    {
     "data": {
      "image/png": "[encoded data removed]",
      "text/plain": [
       "<Figure size 1000x500 with 2 Axes>"
      ]
     },
     "metadata": {},
     "output_type": "display_data"
    }
   ],
   "source": [
    "for i in tokenized_corpus_src[:-test.shape[0]]:\n",
    "      text_word_count.append(len(i.split()))\n",
    "\n",
    "for i in tokenized_corpus_trg[:-test.shape[0]]:\n",
    "      summary_word_count.append(len(i.split()))\n",
    "\n",
    "fig , ax = plt.subplots(1,2)\n",
    "fig.set_size_inches(10,5)\n",
    "ax[0].hist(text_word_count, bins=25, range=[0, 1000])\n",
    "ax[1].hist(summary_word_count, bins=25, range=[0, 100])\n",
    "ax[0].set_xlabel(\"No. of words in Text\")\n",
    "ax[0].set_ylabel(\"Frequency\")\n",
    "ax[1].set_xlabel(\"No. of words in Summary\")\n",
    "ax[1].set_ylabel(\"Frequency\")\n",
    "ax[0].set_title('Distribution of Testing data')\n",
    "plt.show()"
   ]
  },
  {
   "cell_type": "code",
   "execution_count": 17,
   "id": "056d972e",
   "metadata": {
    "execution": {
     "iopub.execute_input": "2024-02-13T13:30:59.535984Z",
     "iopub.status.busy": "2024-02-13T13:30:59.535674Z",
     "iopub.status.idle": "2024-02-13T13:30:59.710778Z",
     "shell.execute_reply": "2024-02-13T13:30:59.709942Z"
    },
    "papermill": {
     "duration": 0.198411,
     "end_time": "2024-02-13T13:30:59.712990",
     "exception": false,
     "start_time": "2024-02-13T13:30:59.514579",
     "status": "completed"
    },
    "tags": []
   },
   "outputs": [
    {
     "name": "stdout",
     "output_type": "stream",
     "text": [
      "::::: Text_Cleaned :::::\n",
      "0    दिल्ली में सुप्रीम कोर्ट के डीज़ल टैक्सियों को...\n",
      "1    जॉर्डन के ऐतिहासिक दौरे पर पहुंचे राष्ट्रपति प...\n",
      "2    पाकिस्तानी नेताओं को विवादित और हास्यास्पद बया...\n",
      "3    पीएम नरेंद्र मोदी बायोपिक में विवेक ओबेरॉय ने ...\n",
      "4    देश दुनिया महानगर खेल आर्थिक और बॉलीवुड में क्...\n",
      "Name: Text_Cleaned, dtype: object \n",
      "\n",
      "::::: Summary :::::\n",
      "0     दिल्ली में डीजल टैक्सियों पर बैन से मुश्किल म...\n",
      "1    जॉर्डन राष्ट्रपति मुखर्जी ने करोड़ डॉलर के संय...\n",
      "2     में पाकिस्तान की राजदूत मलीहा लोधी ने कराई फज...\n",
      "3     देशों में पीएम नरेंद्र मोदी बायोपिक को रिलीज ...\n",
      "4                      अगस्त दिनभर की बड़ी खबरें पढ़ें\n",
      "Name: Summary_Cleaned, dtype: object \n",
      "\n"
     ]
    }
   ],
   "source": [
    "news['Text_Cleaned'] = tokenized_corpus_src  \n",
    "print(\"::::: Text_Cleaned :::::\")\n",
    "print(news['Text_Cleaned'][0:5], \"\\n\")\n",
    "\n",
    "\n",
    "news['Summary_Cleaned'] =  tokenized_corpus_trg \n",
    "print(\"::::: Summary :::::\")\n",
    "print(news['Summary_Cleaned'][0:5], \"\\n\")\n",
    "\n",
    "corpus = list(news['Text_Cleaned'])"
   ]
  },
  {
   "cell_type": "code",
   "execution_count": 18,
   "id": "2bf91656",
   "metadata": {
    "execution": {
     "iopub.execute_input": "2024-02-13T13:30:59.755218Z",
     "iopub.status.busy": "2024-02-13T13:30:59.754925Z",
     "iopub.status.idle": "2024-02-13T13:31:10.113321Z",
     "shell.execute_reply": "2024-02-13T13:31:10.112537Z"
    },
    "papermill": {
     "duration": 10.381905,
     "end_time": "2024-02-13T13:31:10.115725",
     "exception": false,
     "start_time": "2024-02-13T13:30:59.733820",
     "status": "completed"
    },
    "tags": []
   },
   "outputs": [],
   "source": [
    "text_count = []\n",
    "summary_count = []\n",
    "\n",
    "for sent in news['Text_Cleaned']:\n",
    "    text_count.append(len(sent.split()))\n",
    "for sent in news['Summary_Cleaned']:\n",
    "    summary_count.append(len(sent.split()))\n",
    "\n",
    "graph_df = pd.DataFrame()\n",
    "graph_df['text'] = text_count\n",
    "graph_df['summary'] = summary_count"
   ]
  },
  {
   "cell_type": "code",
   "execution_count": 19,
   "id": "e9edaccf",
   "metadata": {
    "execution": {
     "iopub.execute_input": "2024-02-13T13:31:10.159248Z",
     "iopub.status.busy": "2024-02-13T13:31:10.158941Z",
     "iopub.status.idle": "2024-02-13T13:31:10.179159Z",
     "shell.execute_reply": "2024-02-13T13:31:10.178316Z"
    },
    "papermill": {
     "duration": 0.044375,
     "end_time": "2024-02-13T13:31:10.181268",
     "exception": false,
     "start_time": "2024-02-13T13:31:10.136893",
     "status": "completed"
    },
    "tags": []
   },
   "outputs": [
    {
     "data": {
      "text/plain": [
       "count    333260.000000\n",
       "mean        348.910493\n",
       "std         314.028859\n",
       "min           0.000000\n",
       "25%         197.000000\n",
       "50%         282.000000\n",
       "75%         399.000000\n",
       "max       15089.000000\n",
       "Name: text, dtype: float64"
      ]
     },
     "execution_count": 19,
     "metadata": {},
     "output_type": "execute_result"
    }
   ],
   "source": [
    "graph_df['text'].describe()"
   ]
  },
  {
   "cell_type": "code",
   "execution_count": 20,
   "id": "3b7f4e35",
   "metadata": {
    "execution": {
     "iopub.execute_input": "2024-02-13T13:31:10.226951Z",
     "iopub.status.busy": "2024-02-13T13:31:10.226629Z",
     "iopub.status.idle": "2024-02-13T13:31:10.243048Z",
     "shell.execute_reply": "2024-02-13T13:31:10.242225Z"
    },
    "papermill": {
     "duration": 0.042294,
     "end_time": "2024-02-13T13:31:10.245140",
     "exception": false,
     "start_time": "2024-02-13T13:31:10.202846",
     "status": "completed"
    },
    "tags": []
   },
   "outputs": [
    {
     "data": {
      "text/plain": [
       "count    333260.000000\n",
       "mean         10.842576\n",
       "std           3.001873\n",
       "min           0.000000\n",
       "25%           9.000000\n",
       "50%          11.000000\n",
       "75%          13.000000\n",
       "max         162.000000\n",
       "Name: summary, dtype: float64"
      ]
     },
     "execution_count": 20,
     "metadata": {},
     "output_type": "execute_result"
    }
   ],
   "source": [
    "graph_df['summary'].describe()"
   ]
  },
  {
   "cell_type": "code",
   "execution_count": 21,
   "id": "4c1d8869",
   "metadata": {
    "execution": {
     "iopub.execute_input": "2024-02-13T13:31:10.289433Z",
     "iopub.status.busy": "2024-02-13T13:31:10.289137Z",
     "iopub.status.idle": "2024-02-13T13:31:10.612850Z",
     "shell.execute_reply": "2024-02-13T13:31:10.612018Z"
    },
    "papermill": {
     "duration": 0.347653,
     "end_time": "2024-02-13T13:31:10.614807",
     "exception": false,
     "start_time": "2024-02-13T13:31:10.267154",
     "status": "completed"
    },
    "tags": []
   },
   "outputs": [
    {
     "data": {
      "image/png": "[encoded data removed]",
      "text/plain": [
       "<Figure size 640x480 with 1 Axes>"
      ]
     },
     "metadata": {},
     "output_type": "display_data"
    }
   ],
   "source": [
    "graph_df['text'].hist(bins = 25, range=(0, 300))\n",
    "plt.show()"
   ]
  },
  {
   "cell_type": "code",
   "execution_count": 22,
   "id": "6b9b9f62",
   "metadata": {
    "execution": {
     "iopub.execute_input": "2024-02-13T13:31:10.658918Z",
     "iopub.status.busy": "2024-02-13T13:31:10.658609Z",
     "iopub.status.idle": "2024-02-13T13:31:10.942947Z",
     "shell.execute_reply": "2024-02-13T13:31:10.942020Z"
    },
    "papermill": {
     "duration": 0.308344,
     "end_time": "2024-02-13T13:31:10.945037",
     "exception": false,
     "start_time": "2024-02-13T13:31:10.636693",
     "status": "completed"
    },
    "tags": []
   },
   "outputs": [
    {
     "data": {
      "image/png": "[encoded data removed]",
      "text/plain": [
       "<Figure size 640x480 with 1 Axes>"
      ]
     },
     "metadata": {},
     "output_type": "display_data"
    }
   ],
   "source": [
    "graph_df['summary'].hist(bins = 15, range=(0, 20))\n",
    "plt.show()"
   ]
  },
  {
   "cell_type": "code",
   "execution_count": 23,
   "id": "f0ea71ac",
   "metadata": {
    "execution": {
     "iopub.execute_input": "2024-02-13T13:31:10.990531Z",
     "iopub.status.busy": "2024-02-13T13:31:10.990200Z",
     "iopub.status.idle": "2024-02-13T13:31:11.102823Z",
     "shell.execute_reply": "2024-02-13T13:31:11.101785Z"
    },
    "papermill": {
     "duration": 0.137251,
     "end_time": "2024-02-13T13:31:11.104804",
     "exception": false,
     "start_time": "2024-02-13T13:31:10.967553",
     "status": "completed"
    },
    "tags": []
   },
   "outputs": [
    {
     "name": "stdout",
     "output_type": "stream",
     "text": [
      "0.5509842165276361\n"
     ]
    }
   ],
   "source": [
    "count = 0\n",
    "for i in graph_df['text']:\n",
    "    if i > 10 and i <= 300:\n",
    "        count = count + 1\n",
    "print(count / len(graph_df['text']))"
   ]
  },
  {
   "cell_type": "code",
   "execution_count": 24,
   "id": "2372873f",
   "metadata": {
    "execution": {
     "iopub.execute_input": "2024-02-13T13:31:11.149994Z",
     "iopub.status.busy": "2024-02-13T13:31:11.149311Z",
     "iopub.status.idle": "2024-02-13T13:31:11.275816Z",
     "shell.execute_reply": "2024-02-13T13:31:11.274882Z"
    },
    "papermill": {
     "duration": 0.151112,
     "end_time": "2024-02-13T13:31:11.277939",
     "exception": false,
     "start_time": "2024-02-13T13:31:11.126827",
     "status": "completed"
    },
    "tags": []
   },
   "outputs": [
    {
     "name": "stdout",
     "output_type": "stream",
     "text": [
      "0.9994118706115346\n"
     ]
    }
   ],
   "source": [
    "count = 0\n",
    "for i in graph_df['summary']:\n",
    "    if i > 1 and i <= 20:\n",
    "        count = count + 1\n",
    "print(count / len(graph_df['summary']))"
   ]
  },
  {
   "cell_type": "code",
   "execution_count": 25,
   "id": "f8bc3512",
   "metadata": {
    "execution": {
     "iopub.execute_input": "2024-02-13T13:31:11.325516Z",
     "iopub.status.busy": "2024-02-13T13:31:11.325149Z",
     "iopub.status.idle": "2024-02-13T13:31:11.329612Z",
     "shell.execute_reply": "2024-02-13T13:31:11.328665Z"
    },
    "papermill": {
     "duration": 0.030768,
     "end_time": "2024-02-13T13:31:11.331637",
     "exception": false,
     "start_time": "2024-02-13T13:31:11.300869",
     "status": "completed"
    },
    "tags": []
   },
   "outputs": [],
   "source": [
    "max_text_len = 300\n",
    "max_summary_len = 16"
   ]
  },
  {
   "cell_type": "code",
   "execution_count": 26,
   "id": "5bd63068",
   "metadata": {
    "execution": {
     "iopub.execute_input": "2024-02-13T13:31:11.380393Z",
     "iopub.status.busy": "2024-02-13T13:31:11.380051Z",
     "iopub.status.idle": "2024-02-13T13:31:36.747299Z",
     "shell.execute_reply": "2024-02-13T13:31:36.746319Z"
    },
    "papermill": {
     "duration": 25.394068,
     "end_time": "2024-02-13T13:31:36.749673",
     "exception": false,
     "start_time": "2024-02-13T13:31:11.355605",
     "status": "completed"
    },
    "tags": []
   },
   "outputs": [],
   "source": [
    "cleaned_text = np.array(news['Text_Cleaned'])\n",
    "cleaned_summary = np.array(news['Summary_Cleaned'])\n",
    "\n",
    "short_text = []\n",
    "short_summary = []\n",
    "\n",
    "for i in range(len(cleaned_text)):\n",
    "    if(len(cleaned_summary[i].split()) <= max_summary_len \n",
    "       and len(cleaned_summary[i].split()) > 1 \n",
    "       and len(cleaned_text[i].split()) <= max_text_len):\n",
    "        short_text.append(cleaned_text[i])\n",
    "        short_summary.append(cleaned_summary[i])\n",
    "    elif((len(cleaned_summary[i].split()) > max_summary_len) or (len(cleaned_text[i].split()) > max_text_len)):\n",
    "        summ = cleaned_summary[i].split()\n",
    "        txt = cleaned_text[i].split()\n",
    "        if(len(summ)>max_summary_len):\n",
    "          short_summary.append(' '.join(summ[:max_summary_len]))\n",
    "        else:\n",
    "          short_summary.append(cleaned_summary[i])\n",
    "        if(len(txt)>max_text_len):\n",
    "          short_text.append(' '.join(txt[:max_text_len]))\n",
    "        else:\n",
    "          short_text.append(cleaned_text[i]) \n",
    "    \n",
    "post_pre = pd.DataFrame({'text':short_text,'summary':short_summary})"
   ]
  },
  {
   "cell_type": "code",
   "execution_count": 27,
   "id": "f9cdeda0",
   "metadata": {
    "execution": {
     "iopub.execute_input": "2024-02-13T13:31:36.796062Z",
     "iopub.status.busy": "2024-02-13T13:31:36.795309Z",
     "iopub.status.idle": "2024-02-13T13:31:37.799853Z",
     "shell.execute_reply": "2024-02-13T13:31:37.798914Z"
    },
    "papermill": {
     "duration": 1.029967,
     "end_time": "2024-02-13T13:31:37.802110",
     "exception": false,
     "start_time": "2024-02-13T13:31:36.772143",
     "status": "completed"
    },
    "tags": []
   },
   "outputs": [],
   "source": [
    "post_pre['summary'] = post_pre['summary'].apply(lambda x : 'sostok '+ x + ' eostok')\n",
    "post_pre['text'] = post_pre['text'].apply(lambda x: 'sostok ' + x + ' eostok')"
   ]
  },
  {
   "cell_type": "code",
   "execution_count": 28,
   "id": "eeb21d00",
   "metadata": {
    "execution": {
     "iopub.execute_input": "2024-02-13T13:31:37.848112Z",
     "iopub.status.busy": "2024-02-13T13:31:37.847787Z",
     "iopub.status.idle": "2024-02-13T13:31:37.853463Z",
     "shell.execute_reply": "2024-02-13T13:31:37.852595Z"
    },
    "papermill": {
     "duration": 0.030659,
     "end_time": "2024-02-13T13:31:37.855375",
     "exception": false,
     "start_time": "2024-02-13T13:31:37.824716",
     "status": "completed"
    },
    "tags": []
   },
   "outputs": [
    {
     "data": {
      "text/plain": [
       "(333143, 2)"
      ]
     },
     "execution_count": 28,
     "metadata": {},
     "output_type": "execute_result"
    }
   ],
   "source": [
    "post_pre.shape"
   ]
  },
  {
   "cell_type": "code",
   "execution_count": 29,
   "id": "1395d11b",
   "metadata": {
    "execution": {
     "iopub.execute_input": "2024-02-13T13:31:37.901024Z",
     "iopub.status.busy": "2024-02-13T13:31:37.900408Z",
     "iopub.status.idle": "2024-02-13T13:31:37.930097Z",
     "shell.execute_reply": "2024-02-13T13:31:37.929120Z"
    },
    "papermill": {
     "duration": 0.054503,
     "end_time": "2024-02-13T13:31:37.931927",
     "exception": false,
     "start_time": "2024-02-13T13:31:37.877424",
     "status": "completed"
    },
    "tags": []
   },
   "outputs": [
    {
     "name": "stdout",
     "output_type": "stream",
     "text": [
      "cleaned text's size  (333143,)\n",
      "cleaned summary's size  (333143,)\n"
     ]
    }
   ],
   "source": [
    "cleaned_summary = np.array(post_pre['summary'])\n",
    "cleaned_text = np.array(post_pre['text'])\n",
    "print(\"cleaned text's size \",cleaned_text.shape)\n",
    "print(\"cleaned summary's size \",cleaned_summary.shape)"
   ]
  },
  {
   "cell_type": "code",
   "execution_count": 30,
   "id": "08d27605",
   "metadata": {
    "execution": {
     "iopub.execute_input": "2024-02-13T13:31:37.978189Z",
     "iopub.status.busy": "2024-02-13T13:31:37.977905Z",
     "iopub.status.idle": "2024-02-13T13:31:51.487606Z",
     "shell.execute_reply": "2024-02-13T13:31:51.486614Z"
    },
    "papermill": {
     "duration": 13.535261,
     "end_time": "2024-02-13T13:31:51.489944",
     "exception": false,
     "start_time": "2024-02-13T13:31:37.954683",
     "status": "completed"
    },
    "tags": []
   },
   "outputs": [
    {
     "name": "stderr",
     "output_type": "stream",
     "text": [
      "/opt/conda/lib/python3.10/site-packages/scipy/__init__.py:146: UserWarning: A NumPy version >=1.16.5 and <1.23.0 is required for this version of SciPy (detected version 1.24.3\n",
      "  warnings.warn(f\"A NumPy version >={np_minversion} and <{np_maxversion}\"\n"
     ]
    }
   ],
   "source": [
    "from keras.preprocessing.text import Tokenizer \n",
    "from keras.preprocessing.sequence import pad_sequences"
   ]
  },
  {
   "cell_type": "code",
   "execution_count": 31,
   "id": "2e85729d",
   "metadata": {
    "execution": {
     "iopub.execute_input": "2024-02-13T13:31:51.538839Z",
     "iopub.status.busy": "2024-02-13T13:31:51.537674Z",
     "iopub.status.idle": "2024-02-13T13:33:46.743362Z",
     "shell.execute_reply": "2024-02-13T13:33:46.742318Z"
    },
    "papermill": {
     "duration": 115.232017,
     "end_time": "2024-02-13T13:33:46.745941",
     "exception": false,
     "start_time": "2024-02-13T13:31:51.513924",
     "status": "completed"
    },
    "tags": []
   },
   "outputs": [],
   "source": [
    "#Tokenize text to get the vocab count\n",
    "#prepare a tokenizer for training data\n",
    "text_tokenizer = Tokenizer() \n",
    "text_tokenizer.fit_on_texts(list(cleaned_text))\n",
    "\n",
    "#prepare a tokenizer for reviews on training data\n",
    "summary_tokenizer = Tokenizer()   \n",
    "summary_tokenizer.fit_on_texts(list(cleaned_summary))"
   ]
  },
  {
   "cell_type": "code",
   "execution_count": 32,
   "id": "2817b125",
   "metadata": {
    "execution": {
     "iopub.execute_input": "2024-02-13T13:33:46.795124Z",
     "iopub.status.busy": "2024-02-13T13:33:46.794247Z",
     "iopub.status.idle": "2024-02-13T13:33:46.817765Z",
     "shell.execute_reply": "2024-02-13T13:33:46.816918Z"
    },
    "papermill": {
     "duration": 0.050875,
     "end_time": "2024-02-13T13:33:46.820169",
     "exception": false,
     "start_time": "2024-02-13T13:33:46.769294",
     "status": "completed"
    },
    "tags": []
   },
   "outputs": [
    {
     "name": "stdout",
     "output_type": "stream",
     "text": [
      "{'पिरवार': 134988, 'उद्धघाटन': 41518, 'डबखेरा': 286248, 'टिप्प्णियां': 352025, 'थीनिया': 175388, 'एतो': 256613, 'भिड़त': 39100, 'एलाइफ': 121226, 'नखवाल': 96914, 'नरेंद्रासन': 142353}\n"
     ]
    }
   ],
   "source": [
    "vocab = text_tokenizer.word_index\n",
    "import random\n",
    "def sample_from_dict(d, sample=10):\n",
    "    keys = random.sample(list(d), sample)\n",
    "    values = [d[k] for k in keys]\n",
    "    return dict(zip(keys, values))\n",
    "\n",
    "print(sample_from_dict(vocab))"
   ]
  },
  {
   "cell_type": "code",
   "execution_count": 33,
   "id": "3ffeb172",
   "metadata": {
    "execution": {
     "iopub.execute_input": "2024-02-13T13:33:46.868219Z",
     "iopub.status.busy": "2024-02-13T13:33:46.867547Z",
     "iopub.status.idle": "2024-02-13T13:33:47.171428Z",
     "shell.execute_reply": "2024-02-13T13:33:47.170228Z"
    },
    "papermill": {
     "duration": 0.330307,
     "end_time": "2024-02-13T13:33:47.173538",
     "exception": false,
     "start_time": "2024-02-13T13:33:46.843231",
     "status": "completed"
    },
    "tags": []
   },
   "outputs": [
    {
     "name": "stdout",
     "output_type": "stream",
     "text": [
      "% of rare words in vocabulary: 68.68167602630879\n",
      "Total Coverage of rare words: 0.41351097036187695\n"
     ]
    }
   ],
   "source": [
    "thresh=4\n",
    "\n",
    "cnt=0\n",
    "tot_cnt=0\n",
    "freq=0\n",
    "tot_freq=0\n",
    "\n",
    "for key,value in text_tokenizer.word_counts.items():\n",
    "    tot_cnt=tot_cnt+1\n",
    "    tot_freq=tot_freq+value\n",
    "    if(value<thresh):\n",
    "        cnt=cnt+1\n",
    "        freq=freq+value\n",
    "    \n",
    "print(\"% of rare words in vocabulary:\",(cnt/tot_cnt)*100)\n",
    "print(\"Total Coverage of rare words:\",(freq/tot_freq)*100)"
   ]
  },
  {
   "cell_type": "code",
   "execution_count": 34,
   "id": "0068fdc5",
   "metadata": {
    "execution": {
     "iopub.execute_input": "2024-02-13T13:33:47.222471Z",
     "iopub.status.busy": "2024-02-13T13:33:47.222037Z",
     "iopub.status.idle": "2024-02-13T13:37:13.219610Z",
     "shell.execute_reply": "2024-02-13T13:37:13.218592Z"
    },
    "papermill": {
     "duration": 206.047422,
     "end_time": "2024-02-13T13:37:13.244870",
     "exception": false,
     "start_time": "2024-02-13T13:33:47.197448",
     "status": "completed"
    },
    "tags": []
   },
   "outputs": [
    {
     "name": "stdout",
     "output_type": "stream",
     "text": [
      "Size of vocabulary in text = 110757\n"
     ]
    }
   ],
   "source": [
    "# #prepare a tokenizer for reviews on training data\n",
    "text_tokenizer = Tokenizer(num_words = tot_cnt - cnt) \n",
    "text_tokenizer.fit_on_texts(list(cleaned_text))\n",
    "\n",
    "#convert text sequences into integer sequences (i.e one-hot encodeing all the words)\n",
    "text__seq    =   text_tokenizer.texts_to_sequences(cleaned_text)\n",
    "#padding zero upto maximum length\n",
    "cleaned_text    =   pad_sequences(text__seq,  maxlen=max_text_len, padding='post')\n",
    "\n",
    "#size of vocabulary ( +1 for padding token)\n",
    "text_voc   =  text_tokenizer.num_words + 1\n",
    "\n",
    "print(\"Size of vocabulary in text = {}\".format(text_voc))"
   ]
  },
  {
   "cell_type": "code",
   "execution_count": 35,
   "id": "bfcd8b45",
   "metadata": {
    "execution": {
     "iopub.execute_input": "2024-02-13T13:37:13.292635Z",
     "iopub.status.busy": "2024-02-13T13:37:13.291881Z",
     "iopub.status.idle": "2024-02-13T13:37:13.343472Z",
     "shell.execute_reply": "2024-02-13T13:37:13.342346Z"
    },
    "papermill": {
     "duration": 0.077603,
     "end_time": "2024-02-13T13:37:13.345506",
     "exception": false,
     "start_time": "2024-02-13T13:37:13.267903",
     "status": "completed"
    },
    "tags": []
   },
   "outputs": [
    {
     "name": "stdout",
     "output_type": "stream",
     "text": [
      "% of rare words in vocabulary: 58.05363524028988\n",
      "Total Coverage of rare words: 1.1603857371100994\n"
     ]
    }
   ],
   "source": [
    "thresh=4\n",
    "\n",
    "cnt=0\n",
    "tot_cnt=0\n",
    "freq=0\n",
    "tot_freq=0\n",
    "\n",
    "for key,value in summary_tokenizer.word_counts.items():\n",
    "    tot_cnt=tot_cnt+1\n",
    "    tot_freq=tot_freq+value\n",
    "    if(value<thresh):\n",
    "        cnt=cnt+1\n",
    "        freq=freq+value\n",
    "    \n",
    "print(\"% of rare words in vocabulary:\",(cnt/tot_cnt)*100)\n",
    "print(\"Total Coverage of rare words:\",(freq/tot_freq)*100)"
   ]
  },
  {
   "cell_type": "code",
   "execution_count": 36,
   "id": "b5acf1e6",
   "metadata": {
    "execution": {
     "iopub.execute_input": "2024-02-13T13:37:13.394213Z",
     "iopub.status.busy": "2024-02-13T13:37:13.393931Z",
     "iopub.status.idle": "2024-02-13T13:37:31.544492Z",
     "shell.execute_reply": "2024-02-13T13:37:31.543448Z"
    },
    "papermill": {
     "duration": 18.176484,
     "end_time": "2024-02-13T13:37:31.546533",
     "exception": false,
     "start_time": "2024-02-13T13:37:13.370049",
     "status": "completed"
    },
    "tags": []
   },
   "outputs": [
    {
     "name": "stdout",
     "output_type": "stream",
     "text": [
      "Size of vocabulary in summary = 25121\n"
     ]
    }
   ],
   "source": [
    "#prepare a tokenizer for reviews on training data\n",
    "summary_tokenizer = Tokenizer(num_words = tot_cnt - cnt) \n",
    "summary_tokenizer.fit_on_texts(list(cleaned_summary))\n",
    "\n",
    "#convert text sequences into integer sequences (i.e one-hot encodeing all the words)\n",
    "summary__seq    =   summary_tokenizer.texts_to_sequences(cleaned_summary)\n",
    "#padding zero upto maximum length\n",
    "cleaned_summary    =   pad_sequences(summary__seq,  maxlen=max_summary_len, padding='post')\n",
    "\n",
    "#size of vocabulary ( +1 for padding token)\n",
    "summary_voc   =  summary_tokenizer.num_words + 1\n",
    "\n",
    "print(\"Size of vocabulary in summary = {}\".format(summary_voc))"
   ]
  },
  {
   "cell_type": "code",
   "execution_count": 37,
   "id": "ebb09a4c",
   "metadata": {
    "execution": {
     "iopub.execute_input": "2024-02-13T13:37:31.595575Z",
     "iopub.status.busy": "2024-02-13T13:37:31.594637Z",
     "iopub.status.idle": "2024-02-13T13:37:31.601264Z",
     "shell.execute_reply": "2024-02-13T13:37:31.600487Z"
    },
    "papermill": {
     "duration": 0.0335,
     "end_time": "2024-02-13T13:37:31.603503",
     "exception": false,
     "start_time": "2024-02-13T13:37:31.570003",
     "status": "completed"
    },
    "tags": []
   },
   "outputs": [
    {
     "data": {
      "text/plain": [
       "(333143, 333143)"
      ]
     },
     "execution_count": 37,
     "metadata": {},
     "output_type": "execute_result"
    }
   ],
   "source": [
    "summary_tokenizer.word_counts['sostok'],len(cleaned_summary)"
   ]
  },
  {
   "cell_type": "code",
   "execution_count": 38,
   "id": "93d380fa",
   "metadata": {
    "execution": {
     "iopub.execute_input": "2024-02-13T13:37:31.651229Z",
     "iopub.status.busy": "2024-02-13T13:37:31.650974Z",
     "iopub.status.idle": "2024-02-13T13:37:31.654778Z",
     "shell.execute_reply": "2024-02-13T13:37:31.653957Z"
    },
    "papermill": {
     "duration": 0.02996,
     "end_time": "2024-02-13T13:37:31.656586",
     "exception": false,
     "start_time": "2024-02-13T13:37:31.626626",
     "status": "completed"
    },
    "tags": []
   },
   "outputs": [],
   "source": [
    "default_path = '/kaggle/working/'"
   ]
  },
  {
   "cell_type": "code",
   "execution_count": 39,
   "id": "025c7acc",
   "metadata": {
    "execution": {
     "iopub.execute_input": "2024-02-13T13:37:31.704665Z",
     "iopub.status.busy": "2024-02-13T13:37:31.704380Z",
     "iopub.status.idle": "2024-02-13T13:37:32.252526Z",
     "shell.execute_reply": "2024-02-13T13:37:32.251693Z"
    },
    "papermill": {
     "duration": 0.574961,
     "end_time": "2024-02-13T13:37:32.254815",
     "exception": false,
     "start_time": "2024-02-13T13:37:31.679854",
     "status": "completed"
    },
    "tags": []
   },
   "outputs": [],
   "source": [
    "import pickle\n",
    "\n",
    "with open(default_path+'text_tokenizer.pickle', 'wb') as handle:\n",
    "    pickle.dump(text_tokenizer, handle, protocol=pickle.HIGHEST_PROTOCOL)\n",
    "\n",
    "with open(default_path+'summary_tokenizer.pickle', 'wb') as handle:\n",
    "    pickle.dump(summary_tokenizer, handle, protocol=pickle.HIGHEST_PROTOCOL)"
   ]
  },
  {
   "cell_type": "code",
   "execution_count": 40,
   "id": "443e7ae7",
   "metadata": {
    "execution": {
     "iopub.execute_input": "2024-02-13T13:37:32.305553Z",
     "iopub.status.busy": "2024-02-13T13:37:32.305163Z",
     "iopub.status.idle": "2024-02-13T13:37:47.589450Z",
     "shell.execute_reply": "2024-02-13T13:37:47.588580Z"
    },
    "papermill": {
     "duration": 15.31288,
     "end_time": "2024-02-13T13:37:47.591932",
     "exception": false,
     "start_time": "2024-02-13T13:37:32.279052",
     "status": "completed"
    },
    "tags": []
   },
   "outputs": [],
   "source": [
    "ind=[]\n",
    "for i in range(len(cleaned_summary)):\n",
    "    cnt=0\n",
    "    for j in cleaned_summary[i]:\n",
    "        if j!=0:\n",
    "            cnt=cnt+1\n",
    "    if(cnt==2):\n",
    "        ind.append(i)\n",
    "\n",
    "cleaned_text = np.delete(cleaned_text, ind, axis=0)\n",
    "cleaned_summary = np.delete(cleaned_summary, ind, axis=0)"
   ]
  },
  {
   "cell_type": "code",
   "execution_count": 41,
   "id": "f110276f",
   "metadata": {
    "execution": {
     "iopub.execute_input": "2024-02-13T13:37:47.642700Z",
     "iopub.status.busy": "2024-02-13T13:37:47.642140Z",
     "iopub.status.idle": "2024-02-13T13:37:47.646883Z",
     "shell.execute_reply": "2024-02-13T13:37:47.646033Z"
    },
    "papermill": {
     "duration": 0.032073,
     "end_time": "2024-02-13T13:37:47.648958",
     "exception": false,
     "start_time": "2024-02-13T13:37:47.616885",
     "status": "completed"
    },
    "tags": []
   },
   "outputs": [
    {
     "name": "stdout",
     "output_type": "stream",
     "text": [
      "cleaned text's size  (333130, 300)\n",
      "cleaned summary's size  (333130, 16)\n"
     ]
    }
   ],
   "source": [
    "print(\"cleaned text's size \",cleaned_text.shape)\n",
    "print(\"cleaned summary's size \",cleaned_summary.shape)"
   ]
  },
  {
   "cell_type": "code",
   "execution_count": 42,
   "id": "a600a3b6",
   "metadata": {
    "execution": {
     "iopub.execute_input": "2024-02-13T13:37:47.698696Z",
     "iopub.status.busy": "2024-02-13T13:37:47.698349Z",
     "iopub.status.idle": "2024-02-13T13:37:47.705751Z",
     "shell.execute_reply": "2024-02-13T13:37:47.704681Z"
    },
    "papermill": {
     "duration": 0.033878,
     "end_time": "2024-02-13T13:37:47.707827",
     "exception": false,
     "start_time": "2024-02-13T13:37:47.673949",
     "status": "completed"
    },
    "tags": []
   },
   "outputs": [
    {
     "data": {
      "text/plain": [
       "array([[   24,    56,     2, ...,     0,     0,     0],\n",
       "       [11094,     1,  1708, ...,   162,  3278,    25],\n",
       "       [   24,   580,   333, ...,     0,     0,     0],\n",
       "       ...,\n",
       "       [    6,   580,   665, ..., 18583,     8,    25],\n",
       "       [   24,  2442,  1083, ...,     0,     0,     0],\n",
       "       [   24,   310,     1, ...,     0,     0,     0]], dtype=int32)"
      ]
     },
     "execution_count": 42,
     "metadata": {},
     "output_type": "execute_result"
    }
   ],
   "source": [
    "cleaned_text"
   ]
  },
  {
   "cell_type": "code",
   "execution_count": 43,
   "id": "08df43a8",
   "metadata": {
    "execution": {
     "iopub.execute_input": "2024-02-13T13:37:47.759362Z",
     "iopub.status.busy": "2024-02-13T13:37:47.759036Z",
     "iopub.status.idle": "2024-02-13T13:37:47.765381Z",
     "shell.execute_reply": "2024-02-13T13:37:47.764408Z"
    },
    "papermill": {
     "duration": 0.03414,
     "end_time": "2024-02-13T13:37:47.767506",
     "exception": false,
     "start_time": "2024-02-13T13:37:47.733366",
     "status": "completed"
    },
    "tags": []
   },
   "outputs": [
    {
     "data": {
      "text/plain": [
       "array([[    1,    21,     3, ...,     2,     0,     0],\n",
       "       [    1,  9770,   206, ...,     0,     0,     0],\n",
       "       [    1,     3,    68, ...,     2,     0,     0],\n",
       "       ...,\n",
       "       [    1,    68,     9, ...,     0,     0,     0],\n",
       "       [   94,    23,    12, ..., 17783, 11079,     2],\n",
       "       [    1,     4,    26, ...,     2,     0,     0]], dtype=int32)"
      ]
     },
     "execution_count": 43,
     "metadata": {},
     "output_type": "execute_result"
    }
   ],
   "source": [
    "cleaned_summary"
   ]
  },
  {
   "cell_type": "code",
   "execution_count": 44,
   "id": "99fdf38f",
   "metadata": {
    "execution": {
     "iopub.execute_input": "2024-02-13T13:37:47.820052Z",
     "iopub.status.busy": "2024-02-13T13:37:47.819740Z",
     "iopub.status.idle": "2024-02-13T13:37:48.123013Z",
     "shell.execute_reply": "2024-02-13T13:37:48.122112Z"
    },
    "papermill": {
     "duration": 0.330933,
     "end_time": "2024-02-13T13:37:48.125459",
     "exception": false,
     "start_time": "2024-02-13T13:37:47.794526",
     "status": "completed"
    },
    "tags": []
   },
   "outputs": [],
   "source": [
    "with open(default_path+'cleaned_text.pickle', 'wb') as handle:\n",
    "    pickle.dump(cleaned_text, handle, protocol=pickle.HIGHEST_PROTOCOL)\n",
    "\n",
    "with open(default_path+'cleaned_summary.pickle', 'wb') as handle:\n",
    "    pickle.dump(cleaned_summary, handle, protocol=pickle.HIGHEST_PROTOCOL)"
   ]
  },
  {
   "cell_type": "code",
   "execution_count": 45,
   "id": "b27ab619",
   "metadata": {
    "execution": {
     "iopub.execute_input": "2024-02-13T13:37:48.178240Z",
     "iopub.status.busy": "2024-02-13T13:37:48.177916Z",
     "iopub.status.idle": "2024-02-13T13:38:01.940987Z",
     "shell.execute_reply": "2024-02-13T13:38:01.939947Z"
    },
    "papermill": {
     "duration": 13.791668,
     "end_time": "2024-02-13T13:38:01.943236",
     "exception": false,
     "start_time": "2024-02-13T13:37:48.151568",
     "status": "completed"
    },
    "tags": []
   },
   "outputs": [
    {
     "name": "stdout",
     "output_type": "stream",
     "text": [
      "Requirement already satisfied: fasttext in /opt/conda/lib/python3.10/site-packages (0.9.2)\r\n",
      "Requirement already satisfied: pybind11>=2.2 in /opt/conda/lib/python3.10/site-packages (from fasttext) (2.11.1)\r\n",
      "Requirement already satisfied: setuptools>=0.7.0 in /opt/conda/lib/python3.10/site-packages (from fasttext) (68.1.2)\r\n",
      "Requirement already satisfied: numpy in /opt/conda/lib/python3.10/site-packages (from fasttext) (1.24.3)\r\n"
     ]
    }
   ],
   "source": [
    "!pip install fasttext"
   ]
  },
  {
   "cell_type": "code",
   "execution_count": 46,
   "id": "8e3f6799",
   "metadata": {
    "execution": {
     "iopub.execute_input": "2024-02-13T13:38:01.995191Z",
     "iopub.status.busy": "2024-02-13T13:38:01.994490Z",
     "iopub.status.idle": "2024-02-13T13:38:02.017794Z",
     "shell.execute_reply": "2024-02-13T13:38:02.017050Z"
    },
    "papermill": {
     "duration": 0.051384,
     "end_time": "2024-02-13T13:38:02.019683",
     "exception": false,
     "start_time": "2024-02-13T13:38:01.968299",
     "status": "completed"
    },
    "tags": []
   },
   "outputs": [],
   "source": [
    "import fasttext.util"
   ]
  },
  {
   "cell_type": "code",
   "execution_count": 47,
   "id": "aa6963fd",
   "metadata": {
    "execution": {
     "iopub.execute_input": "2024-02-13T13:38:02.081673Z",
     "iopub.status.busy": "2024-02-13T13:38:02.081178Z",
     "iopub.status.idle": "2024-02-13T13:46:46.083089Z",
     "shell.execute_reply": "2024-02-13T13:46:46.082144Z"
    },
    "papermill": {
     "duration": 524.039597,
     "end_time": "2024-02-13T13:46:46.085193",
     "exception": false,
     "start_time": "2024-02-13T13:38:02.045596",
     "status": "completed"
    },
    "tags": []
   },
   "outputs": [
    {
     "name": "stdout",
     "output_type": "stream",
     "text": [
      "Downloading https://dl.fbaipublicfiles.com/fasttext/vectors-crawl/cc.hi.300.bin.gz\n",
      " (100.00%) [==================================================>]\r\n"
     ]
    },
    {
     "data": {
      "text/plain": [
       "'cc.hi.300.bin'"
      ]
     },
     "execution_count": 47,
     "metadata": {},
     "output_type": "execute_result"
    }
   ],
   "source": [
    "fasttext.util.download_model('hi', if_exists='ignore')  # Hindi"
   ]
  },
  {
   "cell_type": "code",
   "execution_count": 48,
   "id": "906bac7c",
   "metadata": {
    "execution": {
     "iopub.execute_input": "2024-02-13T13:47:42.595648Z",
     "iopub.status.busy": "2024-02-13T13:47:42.595261Z",
     "iopub.status.idle": "2024-02-13T13:47:52.631132Z",
     "shell.execute_reply": "2024-02-13T13:47:52.630210Z"
    },
    "papermill": {
     "duration": 38.156523,
     "end_time": "2024-02-13T13:47:52.633262",
     "exception": false,
     "start_time": "2024-02-13T13:47:14.476739",
     "status": "completed"
    },
    "tags": []
   },
   "outputs": [
    {
     "name": "stderr",
     "output_type": "stream",
     "text": [
      "Warning : `load_model` does not return WordVectorModel or SupervisedModel any more, but a `FastText` object which is very similar.\n"
     ]
    }
   ],
   "source": [
    "ft = fasttext.load_model(default_path+'cc.hi.300.bin')"
   ]
  },
  {
   "cell_type": "code",
   "execution_count": 49,
   "id": "701c4bdd",
   "metadata": {
    "execution": {
     "iopub.execute_input": "2024-02-13T13:48:48.993016Z",
     "iopub.status.busy": "2024-02-13T13:48:48.992636Z",
     "iopub.status.idle": "2024-02-13T13:48:48.998067Z",
     "shell.execute_reply": "2024-02-13T13:48:48.997304Z"
    },
    "papermill": {
     "duration": 28.313842,
     "end_time": "2024-02-13T13:48:49.000259",
     "exception": false,
     "start_time": "2024-02-13T13:48:20.686417",
     "status": "completed"
    },
    "tags": []
   },
   "outputs": [
    {
     "name": "stdout",
     "output_type": "stream",
     "text": [
      "Embedding vector shape is 300\n"
     ]
    }
   ],
   "source": [
    "word = \"नृत्य\"\n",
    "print(\"Embedding vector shape is {}\".format(ft.get_word_vector(word).shape[0]))"
   ]
  },
  {
   "cell_type": "code",
   "execution_count": 50,
   "id": "07f550a7",
   "metadata": {
    "execution": {
     "iopub.execute_input": "2024-02-13T13:49:45.513388Z",
     "iopub.status.busy": "2024-02-13T13:49:45.512541Z",
     "iopub.status.idle": "2024-02-13T13:49:45.521036Z",
     "shell.execute_reply": "2024-02-13T13:49:45.520161Z"
    },
    "papermill": {
     "duration": 28.516041,
     "end_time": "2024-02-13T13:49:45.522950",
     "exception": false,
     "start_time": "2024-02-13T13:49:17.006909",
     "status": "completed"
    },
    "tags": []
   },
   "outputs": [],
   "source": [
    "def create_weight_matrix(model, DICT_SIZE, tokenizer):\n",
    "  '''\n",
    "  Accepts word embedding model\n",
    "  and the second model, if provided\n",
    "  Returns weight matrix of size m*n, where\n",
    "  m - size of the dictionary\n",
    "  n - size of the word embedding vector\n",
    "\n",
    "  '''\n",
    "  vector_size = model.get_word_vector(\"नृत्य\").shape[0]\n",
    "  w_matrix = np.zeros((DICT_SIZE, vector_size))\n",
    "  unk_words = []\n",
    "  text_words = []\n",
    "  for word, index in tokenizer.word_index.items():\n",
    "    if index < DICT_SIZE:\n",
    "      if word in model.words: \n",
    "        w_matrix[index] = model.get_word_vector(word)\n",
    "        text_words.append(word)\n",
    "      else:\n",
    "        w_matrix[index] = np.random.rand(1, vector_size)\n",
    "        unk_words.append(word)\n",
    "        \n",
    "  \n",
    "  print('{} words were considered as they were found in embedding space:'.format(len(text_words)))\n",
    "  print('{} are some such words'.format(text_words[:10]))\n",
    "  print()  \n",
    "  print('{} words were randomly alloted as they were not found in embedding space:'.format(len(unk_words)))\n",
    "  print('{} are some such words'.format(unk_words[:10]))\n",
    "\n",
    "  return w_matrix"
   ]
  },
  {
   "cell_type": "code",
   "execution_count": 51,
   "id": "9d992af9",
   "metadata": {
    "execution": {
     "iopub.execute_input": "2024-02-13T13:50:41.489077Z",
     "iopub.status.busy": "2024-02-13T13:50:41.488694Z",
     "iopub.status.idle": "2024-02-13T14:02:08.461186Z",
     "shell.execute_reply": "2024-02-13T14:02:08.460256Z"
    },
    "papermill": {
     "duration": 743.310016,
     "end_time": "2024-02-13T14:02:36.986621",
     "exception": false,
     "start_time": "2024-02-13T13:50:13.676605",
     "status": "completed"
    },
    "tags": []
   },
   "outputs": [
    {
     "name": "stdout",
     "output_type": "stream",
     "text": [
      "101084 words were considered as they were found in embedding space:\n",
      "['के', 'में', 'है', 'की', 'को', 'ने', 'से', 'और', 'का', 'पर'] are some such words\n",
      "\n",
      "9672 words were randomly alloted as they were not found in embedding space:\n",
      "['sostok', 'eostok', 'सिंबा', 'जेजेपी', 'एयरस्ट्राइक', 'रियलमी', 'इनपुटः', 'मीटू', 'एनालिटिका', 'आर्काइव्ड'] are some such words\n"
     ]
    }
   ],
   "source": [
    "text_matrix = create_weight_matrix(ft, text_voc, text_tokenizer)"
   ]
  },
  {
   "cell_type": "code",
   "execution_count": 52,
   "id": "77e7767b",
   "metadata": {
    "execution": {
     "iopub.execute_input": "2024-02-13T14:03:33.721442Z",
     "iopub.status.busy": "2024-02-13T14:03:33.720728Z",
     "iopub.status.idle": "2024-02-13T14:04:02.741224Z",
     "shell.execute_reply": "2024-02-13T14:04:02.740207Z"
    },
    "papermill": {
     "duration": 57.44121,
     "end_time": "2024-02-13T14:04:02.743513",
     "exception": false,
     "start_time": "2024-02-13T14:03:05.302303",
     "status": "completed"
    },
    "tags": []
   },
   "outputs": [
    {
     "name": "stdout",
     "output_type": "stream",
     "text": [
      "24917 words were considered as they were found in embedding space:\n",
      "['में', 'के', 'की', 'का', 'ने', 'से', 'को', 'पर', 'है', 'नहीं'] are some such words\n",
      "\n",
      "203 words were randomly alloted as they were not found in embedding space:\n",
      "['sostok', 'eostok', 'एयरस्ट्राइक', 'दीपवीर', 'सिंबा', 'फरीदाबादः', 'रसूखदारः', 'ओडिशाः', 'मिजाजः', 'तेलंगानाः'] are some such words\n"
     ]
    }
   ],
   "source": [
    "summ_matrix = create_weight_matrix(ft, summary_voc, summary_tokenizer)"
   ]
  },
  {
   "cell_type": "code",
   "execution_count": 53,
   "id": "74536827",
   "metadata": {
    "execution": {
     "iopub.execute_input": "2024-02-13T14:04:58.769697Z",
     "iopub.status.busy": "2024-02-13T14:04:58.768880Z",
     "iopub.status.idle": "2024-02-13T14:04:59.006460Z",
     "shell.execute_reply": "2024-02-13T14:04:59.005628Z"
    },
    "papermill": {
     "duration": 28.129735,
     "end_time": "2024-02-13T14:04:59.008674",
     "exception": false,
     "start_time": "2024-02-13T14:04:30.878939",
     "status": "completed"
    },
    "tags": []
   },
   "outputs": [],
   "source": [
    "with open(default_path+'text_matrix.pickle', 'wb') as handle:\n",
    "    pickle.dump(text_matrix, handle, protocol=pickle.HIGHEST_PROTOCOL)\n",
    "\n",
    "with open(default_path+'summ_matrix.pickle', 'wb') as handle:\n",
    "    pickle.dump(summ_matrix, handle, protocol=pickle.HIGHEST_PROTOCOL)"
   ]
  },
  {
   "cell_type": "code",
   "execution_count": 54,
   "id": "6fd50544",
   "metadata": {
    "execution": {
     "iopub.execute_input": "2024-02-13T14:05:55.426563Z",
     "iopub.status.busy": "2024-02-13T14:05:55.425827Z",
     "iopub.status.idle": "2024-02-13T14:05:55.430601Z",
     "shell.execute_reply": "2024-02-13T14:05:55.429733Z"
    },
    "papermill": {
     "duration": 28.168753,
     "end_time": "2024-02-13T14:05:55.432579",
     "exception": false,
     "start_time": "2024-02-13T14:05:27.263826",
     "status": "completed"
    },
    "tags": []
   },
   "outputs": [],
   "source": [
    "import pandas as pd\n",
    "import numpy as np\n",
    "import tensorflow as tf\n",
    "import keras\n",
    "import time\n",
    "import re\n",
    "import pickle\n",
    "import matplotlib.pyplot as plt"
   ]
  },
  {
   "cell_type": "code",
   "execution_count": 55,
   "id": "bdb9e843",
   "metadata": {
    "execution": {
     "iopub.execute_input": "2024-02-13T14:06:51.604212Z",
     "iopub.status.busy": "2024-02-13T14:06:51.603836Z",
     "iopub.status.idle": "2024-02-13T14:06:51.608120Z",
     "shell.execute_reply": "2024-02-13T14:06:51.607311Z"
    },
    "papermill": {
     "duration": 27.978119,
     "end_time": "2024-02-13T14:06:51.610002",
     "exception": false,
     "start_time": "2024-02-13T14:06:23.631883",
     "status": "completed"
    },
    "tags": []
   },
   "outputs": [],
   "source": [
    "BUFFER_SIZE = 20000\n",
    "BATCH_SIZE = 64"
   ]
  },
  {
   "cell_type": "code",
   "execution_count": 56,
   "id": "c1132fa5",
   "metadata": {
    "execution": {
     "iopub.execute_input": "2024-02-13T14:07:48.171634Z",
     "iopub.status.busy": "2024-02-13T14:07:48.171242Z",
     "iopub.status.idle": "2024-02-13T14:07:49.892312Z",
     "shell.execute_reply": "2024-02-13T14:07:49.891328Z"
    },
    "papermill": {
     "duration": 30.067237,
     "end_time": "2024-02-13T14:07:49.894676",
     "exception": false,
     "start_time": "2024-02-13T14:07:19.827439",
     "status": "completed"
    },
    "tags": []
   },
   "outputs": [],
   "source": [
    "with open(default_path+'cleaned_text.pickle', 'rb') as handle:\n",
    "    cleaned_text = pickle.load(handle)\n",
    "with open(default_path+'cleaned_summary.pickle', 'rb') as handle:\n",
    "    cleaned_summary = pickle.load(handle)"
   ]
  },
  {
   "cell_type": "code",
   "execution_count": 57,
   "id": "f5c153fb",
   "metadata": {
    "execution": {
     "iopub.execute_input": "2024-02-13T14:08:46.147989Z",
     "iopub.status.busy": "2024-02-13T14:08:46.147112Z",
     "iopub.status.idle": "2024-02-13T14:08:46.152995Z",
     "shell.execute_reply": "2024-02-13T14:08:46.152152Z"
    },
    "papermill": {
     "duration": 28.445421,
     "end_time": "2024-02-13T14:08:46.154978",
     "exception": false,
     "start_time": "2024-02-13T14:08:17.709557",
     "status": "completed"
    },
    "tags": []
   },
   "outputs": [
    {
     "data": {
      "text/plain": [
       "(333130, 300)"
      ]
     },
     "execution_count": 57,
     "metadata": {},
     "output_type": "execute_result"
    }
   ],
   "source": [
    "cleaned_text.shape"
   ]
  },
  {
   "cell_type": "code",
   "execution_count": 58,
   "id": "c0c55f4b",
   "metadata": {
    "execution": {
     "iopub.execute_input": "2024-02-13T14:09:42.759974Z",
     "iopub.status.busy": "2024-02-13T14:09:42.759118Z",
     "iopub.status.idle": "2024-02-13T14:09:44.451423Z",
     "shell.execute_reply": "2024-02-13T14:09:44.450418Z"
    },
    "papermill": {
     "duration": 29.863493,
     "end_time": "2024-02-13T14:09:44.453832",
     "exception": false,
     "start_time": "2024-02-13T14:09:14.590339",
     "status": "completed"
    },
    "tags": []
   },
   "outputs": [],
   "source": [
    "x_train, y_train = cleaned_text[:cleaned_text.shape[0]-test.shape[0], :], cleaned_summary[:cleaned_summary.shape[0]-test.shape[0], :]\n",
    "x_test, y_test = cleaned_text[:-test.shape[0], :], cleaned_summary[:-test.shape[0], :]\n",
    "dataset = tf.data.Dataset.from_tensor_slices((x_train, y_train)).shuffle(BUFFER_SIZE).batch(BATCH_SIZE)\n",
    "test_dataset = tf.data.Dataset.from_tensor_slices((x_test, y_test)).batch(BATCH_SIZE)"
   ]
  },
  {
   "cell_type": "code",
   "execution_count": 59,
   "id": "f3e67f75",
   "metadata": {
    "execution": {
     "iopub.execute_input": "2024-02-13T14:10:40.764632Z",
     "iopub.status.busy": "2024-02-13T14:10:40.763721Z",
     "iopub.status.idle": "2024-02-13T14:10:40.769014Z",
     "shell.execute_reply": "2024-02-13T14:10:40.768125Z"
    },
    "papermill": {
     "duration": 28.16388,
     "end_time": "2024-02-13T14:10:40.771063",
     "exception": false,
     "start_time": "2024-02-13T14:10:12.607183",
     "status": "completed"
    },
    "tags": []
   },
   "outputs": [],
   "source": [
    "def get_angles(position, i, d_model):\n",
    "    angle_rates = 1 / np.power(10000, (2 * (i // 2)) / np.float32(d_model))\n",
    "    return position * angle_rates"
   ]
  },
  {
   "cell_type": "code",
   "execution_count": 60,
   "id": "673738da",
   "metadata": {
    "execution": {
     "iopub.execute_input": "2024-02-13T14:11:37.161116Z",
     "iopub.status.busy": "2024-02-13T14:11:37.160748Z",
     "iopub.status.idle": "2024-02-13T14:11:37.167073Z",
     "shell.execute_reply": "2024-02-13T14:11:37.166208Z"
    },
    "papermill": {
     "duration": 28.389834,
     "end_time": "2024-02-13T14:11:37.169004",
     "exception": false,
     "start_time": "2024-02-13T14:11:08.779170",
     "status": "completed"
    },
    "tags": []
   },
   "outputs": [],
   "source": [
    "def positional_encoding(position, d_model):\n",
    "    angle_rads = get_angles(\n",
    "        np.arange(position)[:, np.newaxis],\n",
    "        np.arange(d_model)[np.newaxis, :],\n",
    "        d_model\n",
    "    )\n",
    "\n",
    "    # apply sin to even indices in the array; 2i\n",
    "    angle_rads[:, 0::2] = np.sin(angle_rads[:, 0::2])\n",
    "\n",
    "    # apply cos to odd indices in the array; 2i+1\n",
    "    angle_rads[:, 1::2] = np.cos(angle_rads[:, 1::2])\n",
    "\n",
    "    pos_encoding = angle_rads[np.newaxis, ...]\n",
    "\n",
    "    return tf.cast(pos_encoding, dtype=tf.float32)"
   ]
  },
  {
   "cell_type": "code",
   "execution_count": 61,
   "id": "12f6aff5",
   "metadata": {
    "execution": {
     "iopub.execute_input": "2024-02-13T14:12:33.534491Z",
     "iopub.status.busy": "2024-02-13T14:12:33.533699Z",
     "iopub.status.idle": "2024-02-13T14:12:33.539529Z",
     "shell.execute_reply": "2024-02-13T14:12:33.538656Z"
    },
    "papermill": {
     "duration": 28.243501,
     "end_time": "2024-02-13T14:12:33.541425",
     "exception": false,
     "start_time": "2024-02-13T14:12:05.297924",
     "status": "completed"
    },
    "tags": []
   },
   "outputs": [],
   "source": [
    "def create_padding_mask(seq):\n",
    "    seq = tf.cast(tf.math.equal(seq, 0), tf.float32)\n",
    "    return seq[:, tf.newaxis, tf.newaxis, :]\n",
    "def create_look_ahead_mask(size):\n",
    "    mask = 1 - tf.linalg.band_part(tf.ones((size, size)), -1, 0)\n",
    "    return mask"
   ]
  },
  {
   "cell_type": "code",
   "execution_count": 62,
   "id": "c8a8a746",
   "metadata": {
    "execution": {
     "iopub.execute_input": "2024-02-13T14:13:29.186784Z",
     "iopub.status.busy": "2024-02-13T14:13:29.185990Z",
     "iopub.status.idle": "2024-02-13T14:13:29.192398Z",
     "shell.execute_reply": "2024-02-13T14:13:29.191519Z"
    },
    "papermill": {
     "duration": 27.766574,
     "end_time": "2024-02-13T14:13:29.194339",
     "exception": false,
     "start_time": "2024-02-13T14:13:01.427765",
     "status": "completed"
    },
    "tags": []
   },
   "outputs": [],
   "source": [
    "def scaled_dot_product_attention(q, k, v, mask):\n",
    "    matmul_qk = tf.matmul(q, k, transpose_b=True)\n",
    "\n",
    "    dk = tf.cast(tf.shape(k)[-1], tf.float32)\n",
    "    scaled_attention_logits = matmul_qk / tf.math.sqrt(dk)\n",
    "\n",
    "    if mask is not None:\n",
    "        scaled_attention_logits += (mask * -1e9)  \n",
    "\n",
    "    attention_weights = tf.nn.softmax(scaled_attention_logits, axis=-1)\n",
    "\n",
    "    output = tf.matmul(attention_weights, v)\n",
    "    return output, attention_weights"
   ]
  },
  {
   "cell_type": "code",
   "execution_count": 63,
   "id": "4610ca0a",
   "metadata": {
    "execution": {
     "iopub.execute_input": "2024-02-13T14:14:25.345037Z",
     "iopub.status.busy": "2024-02-13T14:14:25.344240Z",
     "iopub.status.idle": "2024-02-13T14:14:25.468356Z",
     "shell.execute_reply": "2024-02-13T14:14:25.467546Z"
    },
    "papermill": {
     "duration": 28.240993,
     "end_time": "2024-02-13T14:14:25.470573",
     "exception": false,
     "start_time": "2024-02-13T14:13:57.229580",
     "status": "completed"
    },
    "tags": []
   },
   "outputs": [],
   "source": [
    "class MultiHeadAttention(tf.keras.layers.Layer):\n",
    "    def __init__(self, d_model, num_heads):\n",
    "        super(MultiHeadAttention, self).__init__()\n",
    "        self.num_heads = num_heads\n",
    "        self.d_model = d_model\n",
    "\n",
    "        assert d_model % self.num_heads == 0\n",
    "\n",
    "        self.depth = d_model // self.num_heads\n",
    "\n",
    "        self.wq = tf.keras.layers.Dense(d_model)\n",
    "        self.wk = tf.keras.layers.Dense(d_model)\n",
    "        self.wv = tf.keras.layers.Dense(d_model)\n",
    "\n",
    "        self.dense = tf.keras.layers.Dense(d_model)\n",
    "        \n",
    "    def split_heads(self, x, batch_size):\n",
    "        x = tf.reshape(x, (batch_size, -1, self.num_heads, self.depth))\n",
    "        return tf.transpose(x, perm=[0, 2, 1, 3])\n",
    "    \n",
    "    def call(self, v, k, q, mask):\n",
    "        batch_size = tf.shape(q)[0]\n",
    "\n",
    "        q = self.wq(q)\n",
    "        k = self.wk(k)\n",
    "        v = self.wv(v)\n",
    "\n",
    "        q = self.split_heads(q, batch_size)\n",
    "        k = self.split_heads(k, batch_size)\n",
    "        v = self.split_heads(v, batch_size)\n",
    "\n",
    "        scaled_attention, attention_weights = scaled_dot_product_attention(\n",
    "            q, k, v, mask)\n",
    "\n",
    "        scaled_attention = tf.transpose(scaled_attention, perm=[0, 2, 1, 3])\n",
    "\n",
    "        concat_attention = tf.reshape(scaled_attention, (batch_size, -1, self.d_model))\n",
    "        output = self.dense(concat_attention)\n",
    "            \n",
    "        return output, attention_weights"
   ]
  },
  {
   "cell_type": "code",
   "execution_count": 64,
   "id": "804de4cf",
   "metadata": {
    "execution": {
     "iopub.execute_input": "2024-02-13T14:15:21.432886Z",
     "iopub.status.busy": "2024-02-13T14:15:21.432182Z",
     "iopub.status.idle": "2024-02-13T14:15:21.437563Z",
     "shell.execute_reply": "2024-02-13T14:15:21.436628Z"
    },
    "papermill": {
     "duration": 27.91476,
     "end_time": "2024-02-13T14:15:21.439563",
     "exception": false,
     "start_time": "2024-02-13T14:14:53.524803",
     "status": "completed"
    },
    "tags": []
   },
   "outputs": [],
   "source": [
    "def point_wise_feed_forward_network(d_model, dff):\n",
    "    return tf.keras.Sequential([\n",
    "        tf.keras.layers.Dense(dff, activation='relu'),\n",
    "        tf.keras.layers.Dense(d_model)\n",
    "    ])"
   ]
  },
  {
   "cell_type": "code",
   "execution_count": 65,
   "id": "97478165",
   "metadata": {
    "execution": {
     "iopub.execute_input": "2024-02-13T14:16:17.664897Z",
     "iopub.status.busy": "2024-02-13T14:16:17.664528Z",
     "iopub.status.idle": "2024-02-13T14:16:17.672679Z",
     "shell.execute_reply": "2024-02-13T14:16:17.671743Z"
    },
    "papermill": {
     "duration": 28.159543,
     "end_time": "2024-02-13T14:16:17.674534",
     "exception": false,
     "start_time": "2024-02-13T14:15:49.514991",
     "status": "completed"
    },
    "tags": []
   },
   "outputs": [],
   "source": [
    "class EncoderLayer(tf.keras.layers.Layer):\n",
    "    def __init__(self, d_model, num_heads, dff, rate=0.1):\n",
    "        super(EncoderLayer, self).__init__()\n",
    "\n",
    "        self.mha = MultiHeadAttention(d_model, num_heads)\n",
    "        self.ffn = point_wise_feed_forward_network(d_model, dff)\n",
    "\n",
    "        self.layernorm1 = tf.keras.layers.LayerNormalization(epsilon=1e-6)\n",
    "        self.layernorm2 = tf.keras.layers.LayerNormalization(epsilon=1e-6)\n",
    "\n",
    "        self.dropout1 = tf.keras.layers.Dropout(rate)\n",
    "        self.dropout2 = tf.keras.layers.Dropout(rate)\n",
    "    \n",
    "    def call(self, x, training, mask):\n",
    "        attn_output, _ = self.mha(x, x, x, mask)\n",
    "        attn_output = self.dropout1(attn_output, training=training)\n",
    "        out1 = self.layernorm1(x + attn_output)\n",
    "\n",
    "        ffn_output = self.ffn(out1)\n",
    "        ffn_output = self.dropout2(ffn_output, training=training)\n",
    "        out2 = self.layernorm2(out1 + ffn_output)\n",
    "\n",
    "        return out2"
   ]
  },
  {
   "cell_type": "code",
   "execution_count": 66,
   "id": "763fdb46",
   "metadata": {
    "execution": {
     "iopub.execute_input": "2024-02-13T14:17:13.712260Z",
     "iopub.status.busy": "2024-02-13T14:17:13.711903Z",
     "iopub.status.idle": "2024-02-13T14:17:13.721875Z",
     "shell.execute_reply": "2024-02-13T14:17:13.721011Z"
    },
    "papermill": {
     "duration": 28.120242,
     "end_time": "2024-02-13T14:17:13.723934",
     "exception": false,
     "start_time": "2024-02-13T14:16:45.603692",
     "status": "completed"
    },
    "tags": []
   },
   "outputs": [],
   "source": [
    "class DecoderLayer(tf.keras.layers.Layer):\n",
    "    def __init__(self, d_model, num_heads, dff, rate=0.1):\n",
    "        super(DecoderLayer, self).__init__()\n",
    "\n",
    "        self.mha1 = MultiHeadAttention(d_model, num_heads)\n",
    "        self.mha2 = MultiHeadAttention(d_model, num_heads)\n",
    "\n",
    "        self.ffn = point_wise_feed_forward_network(d_model, dff)\n",
    "\n",
    "        self.layernorm1 = tf.keras.layers.LayerNormalization(epsilon=1e-6)\n",
    "        self.layernorm2 = tf.keras.layers.LayerNormalization(epsilon=1e-6)\n",
    "        self.layernorm3 = tf.keras.layers.LayerNormalization(epsilon=1e-6)\n",
    "\n",
    "        self.dropout1 = tf.keras.layers.Dropout(rate)\n",
    "        self.dropout2 = tf.keras.layers.Dropout(rate)\n",
    "        self.dropout3 = tf.keras.layers.Dropout(rate)\n",
    "    \n",
    "    \n",
    "    def call(self, x, enc_output, training, look_ahead_mask, padding_mask):\n",
    "        attn1, attn_weights_block1 = self.mha1(x, x, x, look_ahead_mask)\n",
    "        attn1 = self.dropout1(attn1, training=training)\n",
    "        out1 = self.layernorm1(attn1 + x)\n",
    "\n",
    "        attn2, attn_weights_block2 = self.mha2(enc_output, enc_output, out1, padding_mask)\n",
    "        attn2 = self.dropout2(attn2, training=training)\n",
    "        out2 = self.layernorm2(attn2 + out1)\n",
    "\n",
    "        ffn_output = self.ffn(out2)\n",
    "        ffn_output = self.dropout3(ffn_output, training=training)\n",
    "        out3 = self.layernorm3(ffn_output + out2)\n",
    "\n",
    "        return out3, attn_weights_block1, attn_weights_block2"
   ]
  },
  {
   "cell_type": "code",
   "execution_count": 67,
   "id": "5f1363ce",
   "metadata": {
    "execution": {
     "iopub.execute_input": "2024-02-13T14:18:09.894716Z",
     "iopub.status.busy": "2024-02-13T14:18:09.893857Z",
     "iopub.status.idle": "2024-02-13T14:18:09.903230Z",
     "shell.execute_reply": "2024-02-13T14:18:09.902513Z"
    },
    "papermill": {
     "duration": 28.162513,
     "end_time": "2024-02-13T14:18:09.905203",
     "exception": false,
     "start_time": "2024-02-13T14:17:41.742690",
     "status": "completed"
    },
    "tags": []
   },
   "outputs": [],
   "source": [
    "class Encoder(tf.keras.layers.Layer):\n",
    "    def __init__(self, num_layers, d_model, num_heads, dff, input_vocab_size, maximum_position_encoding, emb_matrix, max_len, rate=0.1):\n",
    "        super(Encoder, self).__init__()\n",
    "\n",
    "        self.d_model = d_model\n",
    "        self.num_layers = num_layers\n",
    "\n",
    "        self.embedding = tf.keras.layers.Embedding(input_dim = input_vocab_size, \n",
    "                      output_dim = d_model,\n",
    "                      input_length = max_len, # max_len of text sequence - 300\n",
    "                      weights=[emb_matrix],\n",
    "                      trainable=False) # static weights to be assigned from pretrained embedding\n",
    "        #self.embedding = tf.keras.layers.Embedding(input_vocab_size, d_model)\n",
    "        self.pos_encoding = positional_encoding(maximum_position_encoding, self.d_model)\n",
    "\n",
    "        self.enc_layers = [EncoderLayer(d_model, num_heads, dff, rate) for _ in range(num_layers)]\n",
    "\n",
    "        self.dropout = tf.keras.layers.Dropout(rate)\n",
    "        \n",
    "    def call(self, x, training, mask):\n",
    "        seq_len = tf.shape(x)[1]\n",
    "\n",
    "        x = self.embedding(x)\n",
    "        x *= tf.math.sqrt(tf.cast(self.d_model, tf.float32))\n",
    "        x += self.pos_encoding[:, :seq_len, :]\n",
    "\n",
    "        x = self.dropout(x, training=training)\n",
    "    \n",
    "        for i in range(self.num_layers):\n",
    "            x = self.enc_layers[i](x, training, mask)\n",
    "    \n",
    "        return x"
   ]
  },
  {
   "cell_type": "code",
   "execution_count": 68,
   "id": "d9ad5742",
   "metadata": {
    "execution": {
     "iopub.execute_input": "2024-02-13T14:19:06.219070Z",
     "iopub.status.busy": "2024-02-13T14:19:06.218692Z",
     "iopub.status.idle": "2024-02-13T14:19:06.229469Z",
     "shell.execute_reply": "2024-02-13T14:19:06.228504Z"
    },
    "papermill": {
     "duration": 28.126917,
     "end_time": "2024-02-13T14:19:06.231491",
     "exception": false,
     "start_time": "2024-02-13T14:18:38.104574",
     "status": "completed"
    },
    "tags": []
   },
   "outputs": [],
   "source": [
    "class Decoder(tf.keras.layers.Layer):\n",
    "    def __init__(self, num_layers, d_model, num_heads, dff, target_vocab_size, maximum_position_encoding, emb_matrix, max_len, rate=0.1):\n",
    "        super(Decoder, self).__init__()\n",
    "\n",
    "        self.d_model = d_model\n",
    "        self.num_layers = num_layers\n",
    "\n",
    "        #self.embedding = tf.keras.layers.Embedding(target_vocab_size, d_model)\n",
    "        self.embedding = tf.keras.layers.Embedding(input_dim = target_vocab_size, \n",
    "                      output_dim = d_model,\n",
    "                      input_length = max_len, # max_len of summ sequence - 16\n",
    "                      weights=[emb_matrix],\n",
    "                      trainable=False)\n",
    "        self.pos_encoding = positional_encoding(maximum_position_encoding, d_model)\n",
    "\n",
    "        self.dec_layers = [DecoderLayer(d_model, num_heads, dff, rate) for _ in range(num_layers)]\n",
    "        self.dropout = tf.keras.layers.Dropout(rate)\n",
    "    \n",
    "    def call(self, x, enc_output, training, look_ahead_mask, padding_mask):\n",
    "        seq_len = tf.shape(x)[1]\n",
    "        attention_weights = {}\n",
    "\n",
    "        x = self.embedding(x)\n",
    "        x *= tf.math.sqrt(tf.cast(self.d_model, tf.float32))\n",
    "        x += self.pos_encoding[:, :seq_len, :]\n",
    "\n",
    "        x = self.dropout(x, training=training)\n",
    "\n",
    "        for i in range(self.num_layers):\n",
    "            x, block1, block2 = self.dec_layers[i](x, enc_output, training, look_ahead_mask, padding_mask)\n",
    "\n",
    "            attention_weights['decoder_layer{}_block1'.format(i+1)] = block1\n",
    "            attention_weights['decoder_layer{}_block2'.format(i+1)] = block2\n",
    "    \n",
    "        return x, attention_weights"
   ]
  },
  {
   "cell_type": "code",
   "execution_count": 69,
   "id": "c3b06010",
   "metadata": {
    "execution": {
     "iopub.execute_input": "2024-02-13T14:20:02.463655Z",
     "iopub.status.busy": "2024-02-13T14:20:02.463238Z",
     "iopub.status.idle": "2024-02-13T14:20:02.471227Z",
     "shell.execute_reply": "2024-02-13T14:20:02.470325Z"
    },
    "papermill": {
     "duration": 28.1188,
     "end_time": "2024-02-13T14:20:02.473229",
     "exception": false,
     "start_time": "2024-02-13T14:19:34.354429",
     "status": "completed"
    },
    "tags": []
   },
   "outputs": [],
   "source": [
    "class Transformer(tf.keras.Model):\n",
    "    def __init__(self, num_layers, d_model, num_heads, dff, input_vocab_size, target_vocab_size, pe_input, pe_target, text_matrix, max_len_text, summ_matrix, max_len_summ, rate=0.1):\n",
    "        super(Transformer, self).__init__()\n",
    "\n",
    "        self.encoder = Encoder(num_layers, d_model, num_heads, dff, input_vocab_size, pe_input, text_matrix, max_len_text, rate)\n",
    "\n",
    "        self.decoder = Decoder(num_layers, d_model, num_heads, dff, target_vocab_size, pe_target, summ_matrix, max_len_summ, rate)\n",
    "\n",
    "        self.final_layer = tf.keras.layers.Dense(target_vocab_size)\n",
    "    \n",
    "    def call(self, inp, tar, training, enc_padding_mask, look_ahead_mask, dec_padding_mask):\n",
    "        enc_output = self.encoder(inp, training, enc_padding_mask)\n",
    "\n",
    "        dec_output, attention_weights = self.decoder(tar, enc_output, training, look_ahead_mask, dec_padding_mask)\n",
    "\n",
    "        final_output = self.final_layer(dec_output)\n",
    "\n",
    "        return final_output, attention_weights"
   ]
  },
  {
   "cell_type": "code",
   "execution_count": 70,
   "id": "13796640",
   "metadata": {
    "execution": {
     "iopub.execute_input": "2024-02-13T14:20:58.890842Z",
     "iopub.status.busy": "2024-02-13T14:20:58.889969Z",
     "iopub.status.idle": "2024-02-13T14:20:59.072720Z",
     "shell.execute_reply": "2024-02-13T14:20:59.071804Z"
    },
    "papermill": {
     "duration": 28.453975,
     "end_time": "2024-02-13T14:20:59.075065",
     "exception": false,
     "start_time": "2024-02-13T14:20:30.621090",
     "status": "completed"
    },
    "tags": []
   },
   "outputs": [],
   "source": [
    "with open(default_path+'text_matrix.pickle', 'rb') as handle:\n",
    "    text_matrix = pickle.load(handle)\n",
    "with open(default_path+'summ_matrix.pickle', 'rb') as handle:\n",
    "    summ_matrix = pickle.load(handle)"
   ]
  },
  {
   "cell_type": "code",
   "execution_count": 71,
   "id": "e13ca0f3",
   "metadata": {
    "execution": {
     "iopub.execute_input": "2024-02-13T14:21:55.316092Z",
     "iopub.status.busy": "2024-02-13T14:21:55.315200Z",
     "iopub.status.idle": "2024-02-13T14:21:55.320183Z",
     "shell.execute_reply": "2024-02-13T14:21:55.319309Z"
    },
    "papermill": {
     "duration": 28.220254,
     "end_time": "2024-02-13T14:21:55.322192",
     "exception": false,
     "start_time": "2024-02-13T14:21:27.101938",
     "status": "completed"
    },
    "tags": []
   },
   "outputs": [],
   "source": [
    "# hyper-params\n",
    "num_layers = 4\n",
    "d_model = text_matrix.shape[1]\n",
    "dff = 512\n",
    "num_heads = 10\n",
    "EPOCHS = 10\n",
    "max_len_text = 300\n",
    "max_len_summ = 16"
   ]
  },
  {
   "cell_type": "code",
   "execution_count": 72,
   "id": "c34b1f4c",
   "metadata": {
    "execution": {
     "iopub.execute_input": "2024-02-13T14:22:51.904836Z",
     "iopub.status.busy": "2024-02-13T14:22:51.903948Z",
     "iopub.status.idle": "2024-02-13T14:22:51.908671Z",
     "shell.execute_reply": "2024-02-13T14:22:51.907737Z"
    },
    "papermill": {
     "duration": 28.378471,
     "end_time": "2024-02-13T14:22:51.910650",
     "exception": false,
     "start_time": "2024-02-13T14:22:23.532179",
     "status": "completed"
    },
    "tags": []
   },
   "outputs": [],
   "source": [
    "encoder_vocab_size = 110757\n",
    "decoder_vocab_size = 25121"
   ]
  },
  {
   "cell_type": "code",
   "execution_count": 73,
   "id": "f8aa3ed8",
   "metadata": {
    "execution": {
     "iopub.execute_input": "2024-02-13T14:23:48.511632Z",
     "iopub.status.busy": "2024-02-13T14:23:48.510806Z",
     "iopub.status.idle": "2024-02-13T14:23:48.517405Z",
     "shell.execute_reply": "2024-02-13T14:23:48.516554Z"
    },
    "papermill": {
     "duration": 28.436831,
     "end_time": "2024-02-13T14:23:48.519213",
     "exception": false,
     "start_time": "2024-02-13T14:23:20.082382",
     "status": "completed"
    },
    "tags": []
   },
   "outputs": [],
   "source": [
    "class CustomSchedule(tf.keras.optimizers.schedules.LearningRateSchedule):\n",
    "    def __init__(self, d_model, warmup_steps=4000):\n",
    "        super(CustomSchedule, self).__init__()\n",
    "\n",
    "        self.d_model = d_model\n",
    "        self.d_model = tf.cast(self.d_model, tf.float32)\n",
    "\n",
    "        self.warmup_steps = warmup_steps\n",
    "    \n",
    "    def __call__(self, step):\n",
    "        arg1 = tf.math.rsqrt(step)\n",
    "        arg2 = step * (self.warmup_steps ** -1.5)\n",
    "\n",
    "        return tf.math.rsqrt(self.d_model) * tf.math.minimum(arg1, arg2)"
   ]
  },
  {
   "cell_type": "code",
   "execution_count": 74,
   "id": "cb1e2d8c",
   "metadata": {
    "execution": {
     "iopub.execute_input": "2024-02-13T14:24:45.483820Z",
     "iopub.status.busy": "2024-02-13T14:24:45.483109Z",
     "iopub.status.idle": "2024-02-13T14:24:45.490603Z",
     "shell.execute_reply": "2024-02-13T14:24:45.489489Z"
    },
    "papermill": {
     "duration": 28.820674,
     "end_time": "2024-02-13T14:24:45.492602",
     "exception": false,
     "start_time": "2024-02-13T14:24:16.671928",
     "status": "completed"
    },
    "tags": []
   },
   "outputs": [],
   "source": [
    "class CustomSchedule(tf.keras.optimizers.schedules.LearningRateSchedule):\n",
    "    def __init__(self, d_model, warmup_steps=4000):\n",
    "        super(CustomSchedule, self).__init__()\n",
    "\n",
    "        self.d_model = tf.cast(d_model, tf.float32)\n",
    "        self.warmup_steps = warmup_steps\n",
    "\n",
    "    def __call__(self, step):\n",
    "        arg1 = tf.cast(tf.math.rsqrt(tf.cast(step, tf.float32)), tf.float32)\n",
    "        arg2 = tf.cast(step, tf.float32) * (self.warmup_steps ** -1.5)\n",
    "\n",
    "        return tf.math.rsqrt(self.d_model) * tf.math.minimum(arg1, arg2)"
   ]
  },
  {
   "cell_type": "code",
   "execution_count": 75,
   "id": "b31a0389",
   "metadata": {
    "execution": {
     "iopub.execute_input": "2024-02-13T14:25:41.777161Z",
     "iopub.status.busy": "2024-02-13T14:25:41.776443Z",
     "iopub.status.idle": "2024-02-13T14:25:41.917346Z",
     "shell.execute_reply": "2024-02-13T14:25:41.915790Z"
    },
    "papermill": {
     "duration": 28.590504,
     "end_time": "2024-02-13T14:25:41.919965",
     "exception": false,
     "start_time": "2024-02-13T14:25:13.329461",
     "status": "completed"
    },
    "tags": []
   },
   "outputs": [],
   "source": [
    "learning_rate = CustomSchedule(d_model)\n",
    "\n",
    "optimizer = tf.keras.optimizers.Adam(learning_rate, beta_1=0.9, beta_2=0.98, epsilon=1e-9)\n",
    "loss_object = tf.keras.losses.SparseCategoricalCrossentropy(from_logits=True, reduction='none')\n",
    "def loss_function(real, pred):\n",
    "    mask = tf.math.logical_not(tf.math.equal(real, 0))\n",
    "    loss_ = loss_object(real, pred)\n",
    "\n",
    "    mask = tf.cast(mask, dtype=loss_.dtype)\n",
    "    loss_ *= mask\n",
    "\n",
    "    return tf.reduce_sum(loss_)/tf.reduce_sum(mask)\n",
    "train_loss = tf.keras.metrics.Mean(name='train_loss')"
   ]
  },
  {
   "cell_type": "code",
   "execution_count": 76,
   "id": "af3c7fea",
   "metadata": {
    "execution": {
     "iopub.execute_input": "2024-02-13T14:26:38.338570Z",
     "iopub.status.busy": "2024-02-13T14:26:38.337756Z",
     "iopub.status.idle": "2024-02-13T14:26:38.346600Z",
     "shell.execute_reply": "2024-02-13T14:26:38.345847Z"
    },
    "papermill": {
     "duration": 28.324522,
     "end_time": "2024-02-13T14:26:38.348524",
     "exception": false,
     "start_time": "2024-02-13T14:26:10.024002",
     "status": "completed"
    },
    "tags": []
   },
   "outputs": [],
   "source": [
    "val_loss = tf.keras.metrics.Mean(name='val_loss')"
   ]
  },
  {
   "cell_type": "code",
   "execution_count": 77,
   "id": "527ee4a5",
   "metadata": {
    "execution": {
     "iopub.execute_input": "2024-02-13T14:27:34.794344Z",
     "iopub.status.busy": "2024-02-13T14:27:34.793960Z",
     "iopub.status.idle": "2024-02-13T14:27:35.934239Z",
     "shell.execute_reply": "2024-02-13T14:27:35.933257Z"
    },
    "papermill": {
     "duration": 29.425546,
     "end_time": "2024-02-13T14:27:35.937211",
     "exception": false,
     "start_time": "2024-02-13T14:27:06.511665",
     "status": "completed"
    },
    "tags": []
   },
   "outputs": [],
   "source": [
    "transformer = Transformer(\n",
    "    num_layers, \n",
    "    d_model, \n",
    "    num_heads, \n",
    "    dff,\n",
    "    encoder_vocab_size, \n",
    "    decoder_vocab_size, \n",
    "    pe_input = encoder_vocab_size, \n",
    "    pe_target = decoder_vocab_size,\n",
    "    text_matrix = text_matrix, \n",
    "    max_len_text = max_len_text, \n",
    "    summ_matrix = summ_matrix, \n",
    "    max_len_summ = max_len_summ\n",
    ")"
   ]
  },
  {
   "cell_type": "code",
   "execution_count": 78,
   "id": "a2655df8",
   "metadata": {
    "execution": {
     "iopub.execute_input": "2024-02-13T14:28:32.547695Z",
     "iopub.status.busy": "2024-02-13T14:28:32.547324Z",
     "iopub.status.idle": "2024-02-13T14:28:32.552726Z",
     "shell.execute_reply": "2024-02-13T14:28:32.551872Z"
    },
    "papermill": {
     "duration": 28.23111,
     "end_time": "2024-02-13T14:28:32.554658",
     "exception": false,
     "start_time": "2024-02-13T14:28:04.323548",
     "status": "completed"
    },
    "tags": []
   },
   "outputs": [],
   "source": [
    "def create_masks(inp, tar):\n",
    "    enc_padding_mask = create_padding_mask(inp)\n",
    "    dec_padding_mask = create_padding_mask(inp)\n",
    "\n",
    "    look_ahead_mask = create_look_ahead_mask(tf.shape(tar)[1])\n",
    "    dec_target_padding_mask = create_padding_mask(tar)\n",
    "    combined_mask = tf.maximum(dec_target_padding_mask, look_ahead_mask)\n",
    "  \n",
    "    return enc_padding_mask, combined_mask, dec_padding_mask"
   ]
  },
  {
   "cell_type": "code",
   "execution_count": 79,
   "id": "73eb9c82",
   "metadata": {
    "execution": {
     "iopub.execute_input": "2024-02-13T14:29:28.763547Z",
     "iopub.status.busy": "2024-02-13T14:29:28.762684Z",
     "iopub.status.idle": "2024-02-13T14:29:28.779162Z",
     "shell.execute_reply": "2024-02-13T14:29:28.778293Z"
    },
    "papermill": {
     "duration": 28.111305,
     "end_time": "2024-02-13T14:29:28.781026",
     "exception": false,
     "start_time": "2024-02-13T14:29:00.669721",
     "status": "completed"
    },
    "tags": []
   },
   "outputs": [],
   "source": [
    "checkpoint_path = default_path+\"checkpoints\"\n",
    "\n",
    "ckpt = tf.train.Checkpoint(transformer=transformer, optimizer=optimizer)\n",
    "\n",
    "ckpt_manager = tf.train.CheckpointManager(ckpt, checkpoint_path, max_to_keep=5)\n",
    "\n",
    "if ckpt_manager.latest_checkpoint:\n",
    "    ckpt.restore(ckpt_manager.latest_checkpoint)\n",
    "    print ('Latest checkpoint restored!!')"
   ]
  },
  {
   "cell_type": "code",
   "execution_count": 80,
   "id": "3da0b364",
   "metadata": {
    "execution": {
     "iopub.execute_input": "2024-02-13T14:30:25.130096Z",
     "iopub.status.busy": "2024-02-13T14:30:25.129328Z",
     "iopub.status.idle": "2024-02-13T14:30:25.136307Z",
     "shell.execute_reply": "2024-02-13T14:30:25.135442Z"
    },
    "papermill": {
     "duration": 28.063759,
     "end_time": "2024-02-13T14:30:25.138287",
     "exception": false,
     "start_time": "2024-02-13T14:29:57.074528",
     "status": "completed"
    },
    "tags": []
   },
   "outputs": [],
   "source": [
    "@tf.function\n",
    "def train_step(inp, tar):\n",
    "    tar_inp = tar[:, :-1]\n",
    "    tar_real = tar[:, 1:]\n",
    "\n",
    "    enc_padding_mask, combined_mask, dec_padding_mask = create_masks(inp, tar_inp)\n",
    "\n",
    "    with tf.GradientTape() as tape:\n",
    "        predictions, _ = transformer(\n",
    "            inp, tar_inp, \n",
    "            True, \n",
    "            enc_padding_mask, \n",
    "            combined_mask, \n",
    "            dec_padding_mask\n",
    "        )\n",
    "        loss = loss_function(tar_real, predictions)\n",
    "        \n",
    "    gradients = tape.gradient(loss, transformer.trainable_variables)    \n",
    "    optimizer.apply_gradients(zip(gradients, transformer.trainable_variables))\n",
    "\n",
    "    train_loss(loss)"
   ]
  },
  {
   "cell_type": "code",
   "execution_count": 81,
   "id": "dd9c6e62",
   "metadata": {
    "execution": {
     "iopub.execute_input": "2024-02-13T14:31:21.574964Z",
     "iopub.status.busy": "2024-02-13T14:31:21.574095Z",
     "iopub.status.idle": "2024-02-13T14:31:21.580590Z",
     "shell.execute_reply": "2024-02-13T14:31:21.579772Z"
    },
    "papermill": {
     "duration": 28.092837,
     "end_time": "2024-02-13T14:31:21.582614",
     "exception": false,
     "start_time": "2024-02-13T14:30:53.489777",
     "status": "completed"
    },
    "tags": []
   },
   "outputs": [],
   "source": [
    "@tf.function\n",
    "def val_step(inp, tar):\n",
    "    tar_inp = tar[:, :-1]\n",
    "    tar_real = tar[:, 1:]\n",
    "\n",
    "    enc_padding_mask, combined_mask, dec_padding_mask = create_masks(inp, tar_inp)\n",
    "\n",
    "    with tf.GradientTape() as tape:\n",
    "        predictions, _ = transformer(\n",
    "            inp, tar_inp, \n",
    "            False, \n",
    "            enc_padding_mask, \n",
    "            combined_mask, \n",
    "            dec_padding_mask\n",
    "        )\n",
    "        loss = loss_function(tar_real, predictions)\n",
    "    val_loss(loss)"
   ]
  },
  {
   "cell_type": "code",
   "execution_count": 82,
   "id": "b0888e3a",
   "metadata": {
    "execution": {
     "iopub.execute_input": "2024-02-13T14:32:17.709134Z",
     "iopub.status.busy": "2024-02-13T14:32:17.708239Z",
     "iopub.status.idle": "2024-02-13T20:21:39.671996Z",
     "shell.execute_reply": "2024-02-13T20:21:39.671097Z"
    },
    "papermill": {
     "duration": 21018.151149,
     "end_time": "2024-02-13T20:22:07.565828",
     "exception": false,
     "start_time": "2024-02-13T14:31:49.414679",
     "status": "completed"
    },
    "tags": []
   },
   "outputs": [
    {
     "name": "stdout",
     "output_type": "stream",
     "text": [
      "Epoch 1 ========> Batch 0 Loss 10.1359\n",
      "Epoch 1 ========> Batch 2601 Loss 6.4889\n",
      "Epoch 1/10 ========> Training Loss 6.0228 Test/Validation Loss 4.9520\n",
      "Time taken for epoch 1: 2139.78 secs\n",
      "\n",
      "Epoch 2 ========> Batch 0 Loss 5.2897\n",
      "Epoch 2 ========> Batch 2601 Loss 4.9086\n",
      "Saving checkpoint for epoch 2 at /kaggle/working/checkpoints/ckpt-1\n",
      "Epoch 2/10 ========> Training Loss 4.8231 Test/Validation Loss 4.5020\n",
      "Time taken for epoch 2: 2091.40 secs\n",
      "\n",
      "Epoch 3 ========> Batch 0 Loss 4.6735\n",
      "Epoch 3 ========> Batch 2601 Loss 4.5449\n",
      "Epoch 3/10 ========> Training Loss 4.5071 Test/Validation Loss 4.3217\n",
      "Time taken for epoch 3: 2090.42 secs\n",
      "\n",
      "Epoch 4 ========> Batch 0 Loss 4.1951\n",
      "Epoch 4 ========> Batch 2601 Loss 4.3672\n",
      "Saving checkpoint for epoch 4 at /kaggle/working/checkpoints/ckpt-2\n",
      "Epoch 4/10 ========> Training Loss 4.3417 Test/Validation Loss 4.2310\n",
      "Time taken for epoch 4: 2091.75 secs\n",
      "\n",
      "Epoch 5 ========> Batch 0 Loss 4.3620\n",
      "Epoch 5 ========> Batch 2601 Loss 4.2525\n",
      "Epoch 5/10 ========> Training Loss 4.2358 Test/Validation Loss 4.1426\n",
      "Time taken for epoch 5: 2090.52 secs\n",
      "\n",
      "Epoch 6 ========> Batch 0 Loss 4.0715\n",
      "Epoch 6 ========> Batch 2601 Loss 4.1726\n",
      "Saving checkpoint for epoch 6 at /kaggle/working/checkpoints/ckpt-3\n",
      "Epoch 6/10 ========> Training Loss 4.1603 Test/Validation Loss 4.1521\n",
      "Time taken for epoch 6: 2092.80 secs\n",
      "\n",
      "Epoch 7 ========> Batch 0 Loss 4.1136\n",
      "Epoch 7 ========> Batch 2601 Loss 4.1132\n",
      "Epoch 7/10 ========> Training Loss 4.1025 Test/Validation Loss 4.1421\n",
      "Time taken for epoch 7: 2090.05 secs\n",
      "\n",
      "Epoch 8 ========> Batch 0 Loss 3.9989\n",
      "Epoch 8 ========> Batch 2601 Loss 4.0598\n",
      "Saving checkpoint for epoch 8 at /kaggle/working/checkpoints/ckpt-4\n",
      "Epoch 8/10 ========> Training Loss 4.0515 Test/Validation Loss 4.1528\n",
      "Time taken for epoch 8: 2092.27 secs\n",
      "\n",
      "Epoch 9 ========> Batch 0 Loss 3.9492\n",
      "Epoch 9 ========> Batch 2601 Loss 4.0134\n",
      "Epoch 9/10 ========> Training Loss 4.0050 Test/Validation Loss 4.1128\n",
      "Time taken for epoch 9: 2090.73 secs\n",
      "\n",
      "Epoch 10 ========> Batch 0 Loss 3.8154\n",
      "Epoch 10 ========> Batch 2601 Loss 3.9683\n",
      "Saving checkpoint for epoch 10 at /kaggle/working/checkpoints/ckpt-5\n",
      "Epoch 10/10 ========> Training Loss 3.9638 Test/Validation Loss 4.1187\n",
      "Time taken for epoch 10: 2091.94 secs\n",
      "\n"
     ]
    },
    {
     "data": {
      "image/png": "[encoded data removed]",
      "text/plain": [
       "<Figure size 1000x600 with 1 Axes>"
      ]
     },
     "metadata": {},
     "output_type": "display_data"
    }
   ],
   "source": [
    "train_loss_values = []\n",
    "test_loss_values = []\n",
    "for epoch in range(EPOCHS):\n",
    "    start = time.time()\n",
    "\n",
    "    train_loss.reset_states()\n",
    "    val_loss.reset_states()\n",
    "    #training set - forward prop, loss fn, (gradient descent and optimization) backprop\n",
    "    for (batch, (inp, tar)) in enumerate(dataset):\n",
    "        train_step(inp, tar)\n",
    "    \n",
    "        # 85k samples\n",
    "        # we display 3 batch results -- 0th, middle and last one (approx)\n",
    "        # 85k / 64 ~ 1328; 1328 / 2 ~ 664\n",
    "        if batch % 2601 == 0:\n",
    "            print ('Epoch {} ========> Batch {} Loss {:.4f}'.format(epoch + 1, batch, train_loss.result().numpy()))\n",
    "      \n",
    "    if (epoch + 1) % 2 == 0:\n",
    "        ckpt_save_path = ckpt_manager.save()\n",
    "        print ('Saving checkpoint for epoch {} at {}'.format(epoch+1, ckpt_save_path))\n",
    "\n",
    "    train_loss_values.append(train_loss.result().numpy())\n",
    "    \n",
    "    #test set - forward pass, loss fn (no backward pass)\n",
    "    for (batch, (inp, tar)) in enumerate(test_dataset):\n",
    "        val_step(inp, tar)\n",
    "\n",
    "    test_loss_values.append(val_loss.result().numpy())\n",
    "    \n",
    "    print ('Epoch {}/{} ========> Training Loss {:.4f} Test/Validation Loss {:.4f}'.format(epoch + 1, EPOCHS, train_loss.result().numpy(), val_loss.result().numpy()))\n",
    "    \n",
    "    print ('Time taken for epoch {}: {:.2f} secs\\n'.format(epoch+1, time.time() - start))\n",
    "no_of_epochs = [i for i in range(EPOCHS)]\n",
    "fig , ax = plt.subplots(1,1)\n",
    "fig.set_size_inches(10,6)\n",
    "ax.plot(no_of_epochs, test_loss_values, label = 'Testing Loss')\n",
    "ax.plot(no_of_epochs, train_loss_values, label = 'Training Loss')\n",
    "ax.set_title('Categorical Crossentropy Loss vs No. of Epochs')\n",
    "ax.legend()\n",
    "ax.set_xlabel(\"No. of Epochs\")\n",
    "plt.show()"
   ]
  },
  {
   "cell_type": "code",
   "execution_count": 83,
   "id": "376954bf",
   "metadata": {
    "execution": {
     "iopub.execute_input": "2024-02-13T20:23:02.956636Z",
     "iopub.status.busy": "2024-02-13T20:23:02.955682Z",
     "iopub.status.idle": "2024-02-13T20:23:03.662288Z",
     "shell.execute_reply": "2024-02-13T20:23:03.661494Z"
    },
    "papermill": {
     "duration": 28.225023,
     "end_time": "2024-02-13T20:23:03.664613",
     "exception": false,
     "start_time": "2024-02-13T20:22:35.439590",
     "status": "completed"
    },
    "tags": []
   },
   "outputs": [],
   "source": [
    "with open(default_path+'text_tokenizer.pickle', 'rb') as handle:\n",
    "    text_tokenizer = pickle.load(handle)\n",
    "with open(default_path+'summary_tokenizer.pickle', 'rb') as handle:\n",
    "    summary_tokenizer = pickle.load(handle)\n",
    "max_text_len = 300\n",
    "max_summary_len = 16 "
   ]
  },
  {
   "cell_type": "code",
   "execution_count": 84,
   "id": "c89f8bc9",
   "metadata": {
    "execution": {
     "iopub.execute_input": "2024-02-13T20:23:59.338774Z",
     "iopub.status.busy": "2024-02-13T20:23:59.338398Z",
     "iopub.status.idle": "2024-02-13T20:23:59.351583Z",
     "shell.execute_reply": "2024-02-13T20:23:59.350336Z"
    },
    "papermill": {
     "duration": 27.946866,
     "end_time": "2024-02-13T20:23:59.353209",
     "exception": true,
     "start_time": "2024-02-13T20:23:31.406343",
     "status": "failed"
    },
    "tags": []
   },
   "outputs": [
    {
     "ename": "SyntaxError",
     "evalue": "invalid syntax (2505019680.py, line 35)",
     "output_type": "error",
     "traceback": [
      "\u001b[0;36m  Cell \u001b[0;32mIn[84], line 35\u001b[0;36m\u001b[0m\n\u001b[0;31m    return tf.squeeze(output, axis=0), attention_weightsdef summarize(input_document):\u001b[0m\n\u001b[0m                                                            ^\u001b[0m\n\u001b[0;31mSyntaxError\u001b[0m\u001b[0;31m:\u001b[0m invalid syntax\n"
     ]
    }
   ],
   "source": [
    "def predict(input_document):\n",
    "    # #clean\n",
    "    #input_document = preprocess_tokenize(input_document)\n",
    "    input_document = \"sostok \"+input_document+\" eostok\"\n",
    "    #tokenize\n",
    "    input_document = text_tokenizer.texts_to_sequences([input_document])\n",
    "    #padding\n",
    "    input_document = tf.keras.preprocessing.sequence.pad_sequences(input_document, maxlen=max_text_len, padding='post', truncating='post')\n",
    "\n",
    "    encoder_input = tf.expand_dims(input_document[0], 0)\n",
    "\n",
    "    decoder_input = [summary_tokenizer.word_index[\"sostok\"]]\n",
    "    output = tf.expand_dims(decoder_input, 0)\n",
    "    \n",
    "    for i in range(max_summary_len):\n",
    "        enc_padding_mask, combined_mask, dec_padding_mask = create_masks(encoder_input, output)\n",
    "\n",
    "        predictions, attention_weights = transformer(\n",
    "            encoder_input, \n",
    "            output,\n",
    "            False,\n",
    "            enc_padding_mask,\n",
    "            combined_mask,\n",
    "            dec_padding_mask,\n",
    "        )\n",
    "\n",
    "        predictions = predictions[: ,-1:, :]\n",
    "        predicted_id = tf.cast(tf.argmax(predictions, axis=-1), tf.int32)\n",
    "\n",
    "        if predicted_id == summary_tokenizer.word_index[\"eostok\"]:\n",
    "            return tf.squeeze(output, axis=0), attention_weights\n",
    "\n",
    "        output = tf.concat([output, predicted_id], axis=-1)\n",
    "\n",
    "    return tf.squeeze(output, axis=0), attention_weightsdef summarize(input_document):\n",
    "    # not considering attention weights for now, can be used to plot attention heatmaps in the future\n",
    "    summarized = predict(input_document=input_document)[0].numpy()\n",
    "    summarized = np.expand_dims(summarized[1:], 0)  # not printing <go> token\n",
    "    return summary_tokenizer.sequences_to_texts(summarized)[0]  # since there is just one translated document\n",
    "summarize(\"यूपी के लाल हैं कोविंद, दलित विरोधी हैं मायावतीः केशव मौर्या\")"
   ]
  },
  {
   "cell_type": "code",
   "execution_count": null,
   "id": "2b632ad3",
   "metadata": {
    "papermill": {
     "duration": null,
     "end_time": null,
     "exception": null,
     "start_time": null,
     "status": "pending"
    },
    "tags": []
   },
   "outputs": [],
   "source": [
    "documents = test[\"article\"]\n",
    "summary = test[\"headline\"]samples = [17, 35, 69, 21, 26]\n",
    "docs = []\n",
    "summ = []\n",
    "pred = []\n",
    "for i in samples:\n",
    "  pred.append(summarize(documents[i]))\n",
    "  docs.append(' '.join(documents[i].split(' ')[:100]))\n",
    "  summ.append(summary[i])\n",
    "\n",
    "\n",
    "result_df = pd.DataFrame({'Input': docs, 'Reference Summary': summ, 'Model Output Summary': pred, 'Padding':pred })\n",
    "result_df[['Input', 'Reference Summary', 'Model Output Summary']] #17, 69, 21, 26, 35\n",
    "result_df.style.set_properties(subset=['Input', 'Padding'], **{'width': '400px'})"
   ]
  },
  {
   "cell_type": "code",
   "execution_count": null,
   "id": "b575fa4a",
   "metadata": {
    "papermill": {
     "duration": null,
     "end_time": null,
     "exception": null,
     "start_time": null,
     "status": "pending"
    },
    "tags": []
   },
   "outputs": [],
   "source": [
    "from rouge import Roug"
   ]
  },
  {
   "cell_type": "code",
   "execution_count": null,
   "id": "e7cf9731",
   "metadata": {
    "papermill": {
     "duration": null,
     "end_time": null,
     "exception": null,
     "start_time": null,
     "status": "pending"
    },
    "tags": []
   },
   "outputs": [],
   "source": [
    "rouge = Rouge()"
   ]
  },
  {
   "cell_type": "code",
   "execution_count": null,
   "id": "55c5b412",
   "metadata": {
    "papermill": {
     "duration": null,
     "end_time": null,
     "exception": null,
     "start_time": null,
     "status": "pending"
    },
    "tags": []
   },
   "outputs": [],
   "source": [
    "summary = result_df['Model Output Summary'][0]\n",
    "reference = result_df['Reference Summary'][0]"
   ]
  },
  {
   "cell_type": "code",
   "execution_count": null,
   "id": "8ef8eeff",
   "metadata": {
    "papermill": {
     "duration": null,
     "end_time": null,
     "exception": null,
     "start_time": null,
     "status": "pending"
    },
    "tags": []
   },
   "outputs": [],
   "source": [
    "rouge.get_scores(summary,reference)"
   ]
  },
  {
   "cell_type": "code",
   "execution_count": null,
   "id": "48cc7ccd",
   "metadata": {
    "papermill": {
     "duration": null,
     "end_time": null,
     "exception": null,
     "start_time": null,
     "status": "pending"
    },
    "tags": []
   },
   "outputs": [],
   "source": []
  }
 ],
 "metadata": {
  "kaggle": {
   "accelerator": "nvidiaTeslaT4",
   "dataSources": [
    {
     "datasetId": 465845,
     "sourceId": 875288,
     "sourceType": "datasetVersion"
    }
   ],
   "dockerImageVersionId": 30627,
   "isGpuEnabled": true,
   "isInternetEnabled": true,
   "language": "python",
   "sourceType": "notebook"
  },
  "kernelspec": {
   "display_name": "Python 3",
   "language": "python",
   "name": "python3"
  },
  "language_info": {
   "codemirror_mode": {
    "name": "ipython",
    "version": 3
   },
   "file_extension": ".py",
   "mimetype": "text/x-python",
   "name": "python",
   "nbconvert_exporter": "python",
   "pygments_lexer": "ipython3",
   "version": "3.10.12"
  },
  "papermill": {
   "default_parameters": {},
   "duration": 25154.833623,
   "end_time": "2024-02-13T20:24:30.822459",
   "environment_variables": {},
   "exception": true,
   "input_path": "__notebook__.ipynb",
   "output_path": "__notebook__.ipynb",
   "parameters": {},
   "start_time": "2024-02-13T13:25:15.988836",
   "version": "2.4.0"
  }
 },
 "nbformat": 4,
 "nbformat_minor": 5
}
